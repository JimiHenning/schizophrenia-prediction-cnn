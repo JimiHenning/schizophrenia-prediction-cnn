{
 "cells": [
  {
   "cell_type": "code",
   "execution_count": null,
   "metadata": {},
   "outputs": [],
   "source": [
    "#USE PYTHON 3.10.15 FOR TENSORFLOW AND CUDA/CUDNN COMPATIBILITY\n",
    "#IF ON WINDOWS, INSTALL TENSORFLOW 2.10 CUDA 11.2 and cuDNN 8.1 FOR GPU SUPPORT\n",
    "#(YOU ALSO NEED VISUAL STUDIO 2019)"
   ]
  },
  {
   "cell_type": "code",
   "execution_count": null,
   "metadata": {},
   "outputs": [],
   "source": [
    "conda install numpy pandas matplotlib seaborn"
   ]
  },
  {
   "cell_type": "code",
   "execution_count": null,
   "metadata": {},
   "outputs": [],
   "source": [
    "conda install numpy pandas matplotlib seaborn\n",
    "!pip install scikit-learn\n",
    "\n",
    "#NIBABEL IS A LIBRARY TO OPEN, READ AND MANIPULATE .nii or .nii.gz MRI files\n",
    "!pip install nilearn\n",
    "!pip install nibabel\n",
    "\n",
    "#Tensorflow 2.10 installed through Anaconda Prompt\"\"\""
   ]
  },
  {
   "cell_type": "code",
   "execution_count": null,
   "metadata": {},
   "outputs": [],
   "source": [
    "import os\n",
    "import shutil\n",
    "import numpy as np\n",
    "import pandas as pd\n",
    "import nibabel as nib\n",
    "import matplotlib.pyplot as plt\n",
    "import seaborn as sns\n",
    "import schizophrenia_prediction_functions as spf\n",
    "import tensorflow as tf\n",
    "from tensorflow.keras.layers import BatchNormalization\n",
    "from tensorflow.keras.initializers import he_normal\n",
    "from tensorflow.keras.optimizers import Adam\n",
    "from tensorflow.keras.models import Sequential\n",
    "from tensorflow.keras.layers import Conv3D, MaxPooling3D, Flatten, GlobalAveragePooling3D, Dense, Dropout"
   ]
  },
  {
   "cell_type": "code",
   "execution_count": null,
   "metadata": {},
   "outputs": [],
   "source": [
    "pd.set_option(\"display.max_rows\" , 500)\n",
    "pd.set_option(\"display.max_columns\" , 50)"
   ]
  },
  {
   "cell_type": "markdown",
   "metadata": {},
   "source": [
    "## IMPORT AND FORMAT ALL PATIENT METADATA"
   ]
  },
  {
   "cell_type": "code",
   "execution_count": null,
   "metadata": {},
   "outputs": [],
   "source": [
    "\n",
    "df_cobre = pd.read_csv(\"COBRE_phenotypic_data.csv\")\n",
    "df_cobre.rename(columns={\"Unnamed: 0\":\"patient_id\"}).head()\n",
    "df_cobre.rename(columns={\"Unnamed: 0\":\"patient_id\"}, inplace=True)\n",
    "df_cobre_schiz = df_cobre[df_cobre[\"Diagnosis\"].isnull() == False]\n",
    "df_cobre_control = df_cobre[df_cobre[\"Diagnosis\"].isnull() == True]\n",
    "df_cobre_schiz.drop(index=[146,147], inplace = True)\n",
    "df_cobre_schiz = df_cobre_schiz[df_cobre_schiz[\"Subject Type\"] != \"Control\"]\n",
    "spf.recast(df_cobre_schiz, \"Current Age\")"
   ]
  },
  {
   "cell_type": "code",
   "execution_count": null,
   "metadata": {},
   "outputs": [],
   "source": [
    "df_on_ds004302 = pd.read_csv(\"on_ds004302_participants.tsv\", sep='\\t' )\n",
    "df_on_ds004302_schiz = df_on_ds004302[df_on_ds004302[\"group\"] != \"HC\"]\n",
    "df_on_ds004302_control = df_on_ds004302[df_on_ds004302[\"group\"] == \"HC\"]"
   ]
  },
  {
   "cell_type": "code",
   "execution_count": null,
   "metadata": {},
   "outputs": [],
   "source": [
    "df_on_ds004837 = pd.read_csv(\"on_ds004837_participants.csv\")\n",
    "df_on_ds004837_control = df_on_ds004837[df_on_ds004837[\"SUBTYPE2\"] == \"HC\"]\n",
    "df_on_ds004837['SUBTYPE2'] = df_on_ds004837['SUBTYPE2'].str.strip()\n",
    "df_on_ds004837_schiz = df_on_ds004837[df_on_ds004837[\"SUBTYPE2\"] == \"FESZ\"]"
   ]
  },
  {
   "cell_type": "code",
   "execution_count": null,
   "metadata": {},
   "outputs": [],
   "source": [
    "df_on_ds005073 = pd.read_csv(\"on_ds005073_diagnosed_participants.tsv\", sep = '\\t')\n",
    "df_on_ds005073.drop(index=range(31,len(df_on_ds005073)), inplace=True)\n",
    "df_on_ds005073_schiz = df_on_ds005073[df_on_ds005073[\"groupID\"] == \"2\"]"
   ]
  },
  {
   "cell_type": "code",
   "execution_count": null,
   "metadata": {},
   "outputs": [],
   "source": [
    "df_on_ds005073_control = pd.read_csv(\"on_ds005073_control_participants.tsv\", sep = '\\t')\n",
    "df_on_ds004873_control = pd.read_csv(\"on_ds_004873_participants.tsv\", sep=\"\\t\")"
   ]
  },
  {
   "cell_type": "code",
   "execution_count": null,
   "metadata": {},
   "outputs": [],
   "source": [
    "#select patients > 30 for control group to be more in line with schizophrenic patients\n",
    "df_on_ds004873_control_slct = df_on_ds004873_control[df_on_ds004873_control[\"age\"]>30]"
   ]
  },
  {
   "cell_type": "code",
   "execution_count": null,
   "metadata": {},
   "outputs": [],
   "source": [
    "#Scans of schizophrenic patients\n",
    "#df_cobre_schiz\n",
    "#df_on_ds004302_schiz (SKULL STRIPPED!)\n",
    "#df_on_ds004837_schiz\n",
    "#df_on_ds005073_schiz\n",
    "\n",
    "#Scans of healthy control patients\n",
    "#df_cobre_control\n",
    "#df_on_ds004302_control (SKULL STRIPPED)\n",
    "#df_on_ds004837_control\n",
    "#df_on_ds005073_control\n",
    "#df_on_ds005266_control\n",
    "#df_on_ds004873_control"
   ]
  },
  {
   "cell_type": "code",
   "execution_count": null,
   "metadata": {},
   "outputs": [],
   "source": [
    "#Formatting all metadata to a standard format\n",
    "\n",
    "df_cobre_schiz_std = df_cobre_schiz.drop(columns=[\"Subject Type\",\"Diagnosis\"])\n",
    "df_cobre_schiz_std.rename(columns={\"Current Age\":\"age\",\"Gender\":\"sex\",\"Handedness\":\"handedness\"}, inplace=True)\n",
    "df_cobre_schiz_std[\"study\"] = \"cobre\"\n",
    "\n",
    "df_cobre_control_std = df_cobre_control.drop(columns=[\"Subject Type\",\"Diagnosis\"])\n",
    "df_cobre_control_std.rename(columns={\"Current Age\":\"age\",\"Gender\":\"sex\",\"Handedness\":\"handedness\"}, inplace=True)\n",
    "df_cobre_control_std[\"study\"] = \"cobre\"\n",
    "spf.recast(df_cobre_control_std, \"age\")\n",
    "\n",
    "df_on_ds004302_schiz_std = df_on_ds004302_schiz.drop(columns=[\"iq\",\"group\",\"psyrats\"])\n",
    "df_on_ds004302_schiz_std.rename(columns={\"participant_id\":\"patient_id\"}, inplace=True)\n",
    "df_on_ds004302_schiz_std[\"study\"] = \"on_ds004302\"\n",
    "df_on_ds004302_schiz_std[\"handedness\"] = \"R\"\n",
    "df_on_ds004302_schiz_std = df_on_ds004302_schiz_std[[\"patient_id\",\"age\",\"sex\",\"handedness\",\"study\"]]\n",
    "\n",
    "df_on_ds004302_control_std = df_on_ds004302_control.drop(columns=[\"iq\",\"group\",\"psyrats\"])\n",
    "df_on_ds004302_control_std.rename(columns={\"participant_id\":\"patient_id\"}, inplace=True)\n",
    "df_on_ds004302_control_std[\"study\"] = \"on_ds004302\"\n",
    "df_on_ds004302_control_std[\"handedness\"] = \"R\"\n",
    "df_on_ds004302_control_std = df_on_ds004302_control_std[[\"patient_id\",\"age\",\"sex\",\"handedness\",\"study\"]]\n",
    "\n",
    "df_on_ds004837_schiz_std = df_on_ds004837_schiz.filter(items=[\"RECID\", \"SEX\", \"AGE\",\"HAND\"])\n",
    "df_on_ds004837_schiz_std.rename(columns={\"RECID\":\"patient_id\", \"SEX\":\"sex\", \"AGE\":\"age\",\"HAND\":\"handedness\"}, inplace=True)\n",
    "df_on_ds004837_schiz_std[\"study\"] = \"on_ds004837\"\n",
    "df_on_ds004837_schiz_std = df_on_ds004837_schiz_std[[\"patient_id\",\"age\",\"sex\",\"handedness\",\"study\"]]\n",
    "\n",
    "df_on_ds004837_control_std = df_on_ds004837_control.filter(items=[\"RECID\", \"SEX\", \"AGE\",\"HAND\"])\n",
    "df_on_ds004837_control_std.rename(columns={\"RECID\":\"patient_id\", \"SEX\":\"sex\", \"AGE\":\"age\",\"HAND\":\"handedness\"}, inplace=True)\n",
    "df_on_ds004837_control_std[\"study\"] = \"on_ds004837\"\n",
    "df_on_ds004837_control_std = df_on_ds004837_control_std[[\"patient_id\",\"age\",\"sex\",\"handedness\",\"study\"]]\n",
    "\n",
    "df_on_ds005073_schiz_std = df_on_ds005073_schiz.filter(items=[\"participant_id\", \"gender\", \"age\",\"handedness\"])\n",
    "df_on_ds005073_schiz_std.rename(columns={\"participant_id\":\"patient_id\", \"gender\":\"sex\"}, inplace=True)\n",
    "df_on_ds005073_schiz_std[\"study\"] = \"on_ds005073\"\n",
    "df_on_ds005073_schiz_std = df_on_ds005073_schiz_std[[\"patient_id\",\"age\",\"sex\",\"handedness\",\"study\"]]\n",
    "\n",
    "df_on_ds005073_control_std = df_on_ds005073_control.filter(items=[\"participant_id\", \"Gender\", \"Age\",\"Handedness\"])\n",
    "df_on_ds005073_control_std.rename(columns={\"participant_id\":\"patient_id\", \"Gender\":\"sex\", \"Age\":\"age\",\"Handedness\":\"handedness\"}, inplace=True)\n",
    "df_on_ds005073_control_std[\"study\"] = \"on_ds005073\"\n",
    "df_on_ds005073_control_std = df_on_ds005073_control_std[[\"patient_id\",\"age\",\"sex\",\"handedness\",\"study\"]]\n",
    "\n",
    "df_on_ds004873_control_std = df_on_ds004873_control_slct.filter(items=[\"participant_id\", \"sex\", \"age\"])\n",
    "df_on_ds004873_control_std.rename(columns={\"participant_id\":\"patient_id\"}, inplace=True)\n",
    "df_on_ds004873_control_std[\"study\"] = \"on_ds004873\"\n",
    "df_on_ds004873_control_std[\"handedness\"] = \"R\"\n",
    "df_on_ds004873_control_std = df_on_ds004873_control_std[[\"patient_id\",\"age\",\"sex\",\"handedness\",\"study\"]]\n",
    "df_on_ds004873_control_std.dtypes"
   ]
  },
  {
   "cell_type": "code",
   "execution_count": null,
   "metadata": {},
   "outputs": [],
   "source": [
    "#Creating the comprehensive schizophrenic and control dataframes\n",
    "metadata_schiz = pd.concat([df_cobre_schiz_std,df_on_ds004302_schiz_std,df_on_ds004837_schiz_std,df_on_ds005073_schiz_std], axis=0, join=\"outer\", ignore_index=True)\n",
    "\n",
    "metadata_control = pd.concat([df_cobre_control_std,df_on_ds004302_control_std,df_on_ds004837_control_std, df_on_ds005073_control_std, df_on_ds004873_control_std], axis=0, join=\"outer\", ignore_index=True)"
   ]
  },
  {
   "cell_type": "code",
   "execution_count": null,
   "metadata": {},
   "outputs": [],
   "source": [
    "#Further formatting\n",
    "replacements = {'Male':'M','male': 'M',\"m\":\"M\",\"f\":\"F\",'Female':'F','female':'F','Right':'R', 'Left':'L'}\n",
    "\n",
    "metadata_schiz.replace(replacements, inplace=True)\n",
    "\n",
    "metadata_control.replace(replacements, inplace=True)\n",
    "\n",
    "spf.recast(metadata_schiz, 'age')\n",
    "spf.recast(metadata_control, 'age')\n",
    "\n",
    "metadata_schiz['patient_id'] = metadata_schiz['patient_id'].astype(str)\n",
    "metadata_control['patient_id'] = metadata_control['patient_id'].astype(str)"
   ]
  },
  {
   "cell_type": "code",
   "execution_count": null,
   "metadata": {},
   "outputs": [],
   "source": [
    "metadata_schiz"
   ]
  },
  {
   "cell_type": "code",
   "execution_count": null,
   "metadata": {},
   "outputs": [],
   "source": [
    "metadata_control"
   ]
  },
  {
   "cell_type": "code",
   "execution_count": null,
   "metadata": {},
   "outputs": [],
   "source": [
    "#INSPECTING THE MIDDLE SLICES OF EVERY AXIS FOR AN MRI SCAN\n",
    "#CHANGE THE 'path' VARIABLE TO ANY FILEPATH AT WILL FOR ANY GIVEN MRI SCAN OF INTEREST (.nii or .nii.gz FILES)\n",
    "\n",
    "path = \"40044_mprage.nii.gz\"\n",
    "img = nib.load(path)\n",
    "data = img.get_fdata()\n",
    "\n",
    "slice_x = data.shape[0]//2 #Sagittal slice (X-axis)\n",
    "slice_y = data.shape[1]//2 #Coronal slice (Y-axis)\n",
    "slice_z = data.shape[2]//2 #Transversal (axial?) slice (Z-Axis)\n",
    "\n",
    "fig, axes = plt.subplots(1, 3, figsize = (15,5))\n",
    "\n",
    "#Sagittal\n",
    "axes[0].imshow(data[slice_x, :, :], cmap='gray', origin=\"lower\")\n",
    "axes[0].set_title(\"Sagittal Slice (X-axis)\")\n",
    "axes[0].axis('off')\n",
    "\n",
    "# Coronal\n",
    "axes[1].imshow(data[:, slice_y, :], cmap='gray', origin=\"lower\")\n",
    "axes[1].set_title('Coronal Slice (Y-axis)')\n",
    "axes[1].axis('off')\n",
    "\n",
    "# Axial\n",
    "axes[2].imshow(data[:, :, slice_z], cmap='gray', origin=\"lower\")\n",
    "axes[2].set_title('Axial Slice (Z-axis)')\n",
    "axes[2].axis('off')\n",
    "\n",
    "plt.show()"
   ]
  },
  {
   "cell_type": "code",
   "execution_count": null,
   "metadata": {},
   "outputs": [],
   "source": [
    "#GET THE NUMBER OF SLICES FOR EVERY AXIS\n",
    "img.shape"
   ]
  },
  {
   "cell_type": "code",
   "execution_count": null,
   "metadata": {},
   "outputs": [],
   "source": [
    "#DISPLAY ALL SLICES OF A SPECIFIED AXIS IN A SPECIFIED STEP RANGE IN A GRID\n",
    "\n",
    "# Set up figure with appropriate grid size\n",
    "num_slices = 256\n",
    "step = 4\n",
    "slices = range(0, num_slices, step)\n",
    "\n",
    "\n",
    "grid_size = (8, 8)\n",
    "fig, axes = plt.subplots(*grid_size, figsize=(14, 14))\n",
    "\n",
    "\n",
    "for i, slice_z in enumerate(slices):\n",
    "    row = i // grid_size[1]\n",
    "    col = i % grid_size[1]\n",
    "    axes[row, col].imshow(data[:, :, slice_z], cmap='gray', origin='lower')\n",
    "    axes[row, col].set_title(f'Slice {slice_z}')\n",
    "    axes[row, col].axis('off')\n",
    "\n",
    "plt.tight_layout()\n",
    "plt.show()"
   ]
  },
  {
   "cell_type": "markdown",
   "metadata": {},
   "source": [
    "## BASIC EDA"
   ]
  },
  {
   "cell_type": "code",
   "execution_count": null,
   "metadata": {},
   "outputs": [],
   "source": [
    "sns.histplot(metadata_schiz['age'], kde=True, color='blue')"
   ]
  },
  {
   "cell_type": "code",
   "execution_count": null,
   "metadata": {},
   "outputs": [],
   "source": [
    "sns.histplot(metadata_control['age'], kde=True, color='blue')"
   ]
  },
  {
   "cell_type": "markdown",
   "metadata": {},
   "source": [
    "## ADDING FILENAMES TO THE DATAFRAMES"
   ]
  },
  {
   "cell_type": "code",
   "execution_count": null,
   "metadata": {},
   "outputs": [],
   "source": [
    "metadata_schiz_fn = metadata_schiz.copy()\n",
    "metadata_control_fn = metadata_control.copy()"
   ]
  },
  {
   "cell_type": "code",
   "execution_count": null,
   "metadata": {},
   "outputs": [],
   "source": [
    "metadata_schiz_fn.loc[metadata_schiz_fn['study'] == 'cobre', 'filename'] = metadata_schiz_fn['patient_id'] + '_mprage.nii.gz'\n",
    "metadata_schiz_fn.loc[metadata_schiz_fn['study'] == 'on_ds004302', 'filename'] = metadata_schiz_fn['patient_id'] + '_T1w.nii.gz'\n",
    "metadata_schiz_fn.loc[metadata_schiz_fn['study'] == 'on_ds004837', 'filename'] = 'sub-' + metadata_schiz_fn['patient_id'] + 'A_ses-0001_T1w.nii.gz'\n",
    "metadata_schiz_fn.loc[metadata_schiz_fn['study'] == 'on_ds005073', 'filename'] = metadata_schiz_fn['patient_id'] + '_rec-2_T1w.nii.gz'"
   ]
  },
  {
   "cell_type": "code",
   "execution_count": null,
   "metadata": {},
   "outputs": [],
   "source": [
    "metadata_control_fn.loc[metadata_control_fn['study'] == 'cobre', 'filename'] = metadata_control_fn['patient_id'] + '_mprage.nii.gz'\n",
    "metadata_control_fn.loc[metadata_control_fn['study'] == 'on_ds004302', 'filename'] = metadata_control_fn['patient_id'] + '_T1w.nii.gz'\n",
    "metadata_control_fn.loc[metadata_control_fn['study'] == 'on_ds004837', 'filename'] = 'sub-' + metadata_control_fn['patient_id'] + 'A_ses-0001_T1w.nii.gz'\n",
    "metadata_control_fn.loc[metadata_control_fn['study'] == 'on_ds005073', 'filename'] = metadata_control_fn['patient_id'] + '_rec-2_T1w.nii.gz'\n",
    "metadata_control_fn.loc[metadata_control_fn['study'] == 'on_ds004873', 'filename'] = metadata_control_fn['patient_id'] + '_T1w.nii.gz'"
   ]
  },
  {
   "cell_type": "code",
   "execution_count": null,
   "metadata": {},
   "outputs": [],
   "source": [
    "metadata_control_fn.shape"
   ]
  },
  {
   "cell_type": "code",
   "execution_count": null,
   "metadata": {},
   "outputs": [],
   "source": [
    "metadata_schiz_fn.shape"
   ]
  },
  {
   "cell_type": "markdown",
   "metadata": {},
   "source": [
    "## MOVING AND FORMATTING RELEVANT MRI SCANS"
   ]
  },
  {
   "cell_type": "code",
   "execution_count": null,
   "metadata": {},
   "outputs": [],
   "source": [
    "directory = r\"C:\\Users\\JimiH\\IRON HACK\\WEEK 8\\FINAL PROJECT\\IRON HACK PROJECT MRI\\ds004302\"\n",
    "\n",
    "spf.delete_subfolder(directory)"
   ]
  },
  {
   "cell_type": "code",
   "execution_count": null,
   "metadata": {},
   "outputs": [],
   "source": [
    "directory = r\"C:\\Users\\JimiH\\IRON HACK\\WEEK 8\\FINAL PROJECT\\IRON HACK PROJECT MRI\\ds005073\"\n",
    "\n",
    "spf.delete_subfolder(directory)"
   ]
  },
  {
   "cell_type": "code",
   "execution_count": null,
   "metadata": {},
   "outputs": [],
   "source": [
    "directory = r\"C:\\Users\\JimiH\\IRON HACK\\WEEK 8\\FINAL PROJECT\\IRON HACK PROJECT MRI\\ds004837\"\n",
    "\n",
    "spf.delete_sub_subfolder(directory)"
   ]
  },
  {
   "cell_type": "code",
   "execution_count": null,
   "metadata": {},
   "outputs": [],
   "source": [
    "directory = r\"C:\\Users\\JimiH\\IRON HACK\\WEEK 8\\FINAL PROJECT\\IRON HACK PROJECT MRI\\COBRE\"\n",
    "\n",
    "spf.rename_subfolder(directory)"
   ]
  },
  {
   "cell_type": "code",
   "execution_count": null,
   "metadata": {},
   "outputs": [],
   "source": [
    "directory = r\"C:\\Users\\JimiH\\IRON HACK\\WEEK 8\\FINAL PROJECT\\IRON HACK PROJECT MRI\\COBRE\"\n",
    "\n",
    "spf.delete_sub_subfolder2(directory)"
   ]
  },
  {
   "cell_type": "code",
   "execution_count": null,
   "metadata": {},
   "outputs": [],
   "source": [
    "directory = r\"C:\\Users\\JimiH\\IRON HACK\\WEEK 8\\FINAL PROJECT\\IRON HACK PROJECT MRI\\COBRE\"\n",
    "\n",
    "spf.move_file(directory)"
   ]
  },
  {
   "cell_type": "code",
   "execution_count": null,
   "metadata": {},
   "outputs": [],
   "source": [
    "spf.delete_subfolder2(directory)\n",
    "spf.rename_files(directory)"
   ]
  },
  {
   "cell_type": "code",
   "execution_count": null,
   "metadata": {},
   "outputs": [],
   "source": [
    "directory = r\"c:\\Users\\JimiH\\IRON HACK\\WEEK 8\\FINAL PROJECT\\IRON HACK PROJECT MRI\\TRAINING DATA\\cobre\"\n",
    "\n",
    "spf.move_files_to_parent_directory(directory)"
   ]
  },
  {
   "cell_type": "code",
   "execution_count": null,
   "metadata": {},
   "outputs": [],
   "source": [
    "directory = r\"c:\\Users\\JimiH\\IRON HACK\\WEEK 8\\FINAL PROJECT\\IRON HACK PROJECT MRI\\TRAINING DATA\\on_ds004302\"\n",
    "\n",
    "spf.move_files_to_parent_directory_2lvls(directory)"
   ]
  },
  {
   "cell_type": "code",
   "execution_count": null,
   "metadata": {},
   "outputs": [],
   "source": [
    "directory = r\"c:\\Users\\JimiH\\IRON HACK\\WEEK 8\\FINAL PROJECT\\IRON HACK PROJECT MRI\\TRAINING DATA\\on_ds004837\"\n",
    "\n",
    "spf.move_files_from_deepest_subdirectories(directory)"
   ]
  },
  {
   "cell_type": "code",
   "execution_count": null,
   "metadata": {},
   "outputs": [],
   "source": [
    "directory = r\"c:\\Users\\JimiH\\IRON HACK\\WEEK 8\\FINAL PROJECT\\IRON HACK PROJECT MRI\\UNINCORPORATED HC\\OpenNeuro ds005266 HC\"\n",
    "\n",
    "spf.delete_subfolder(directory)"
   ]
  },
  {
   "cell_type": "code",
   "execution_count": null,
   "metadata": {},
   "outputs": [],
   "source": [
    "def move_file_schiz (directory):\n",
    "    \"\"\"\n",
    "    moves all files in the metadata_schiz_fn dataframe\n",
    "    \"\"\"\n",
    "    schiz_folder = os.path.join(directory, \"schiz\")\n",
    "    os.makedirs(schiz_folder, exist_ok=True)\n",
    "\n",
    "    for item in os.listdir(directory):\n",
    "        item_path = os.path.join(directory, item)\n",
    "        if os.path.isfile(item_path) and item in metadata_schiz_fn[\"filename\"].values:\n",
    "                new_path = os.path.join(schiz_folder, item)\n",
    "                try:\n",
    "                    shutil.move(item_path, new_path)\n",
    "                    print(f\"Moved:{item_path} to {new_path}\")\n",
    "                except Exception as e:\n",
    "                    print(f\"Error moving {item_path}: {e}\")"
   ]
  },
  {
   "cell_type": "code",
   "execution_count": null,
   "metadata": {},
   "outputs": [],
   "source": [
    "def move_file_control (directory):\n",
    "    \"\"\"\n",
    "    moves all files in the metadata_control_fn dataframe\n",
    "    \"\"\"\n",
    "    control_folder = os.path.join(directory, \"control\")\n",
    "    os.makedirs(control_folder, exist_ok=True)\n",
    "\n",
    "    for item in os.listdir(directory):\n",
    "        item_path = os.path.join(directory, item)\n",
    "        if os.path.isfile(item_path) and item in metadata_control_fn[\"filename\"].values:\n",
    "                new_path = os.path.join(control_folder, item)\n",
    "                try:\n",
    "                    shutil.move(item_path, new_path)\n",
    "                    print(f\"Moved:{item_path} to {new_path}\")\n",
    "                except Exception as e:\n",
    "                    print(f\"Error moving {item_path}: {e}\")"
   ]
  },
  {
   "cell_type": "code",
   "execution_count": null,
   "metadata": {},
   "outputs": [],
   "source": [
    "directory = r\"c:\\Users\\JimiH\\IRON HACK\\WEEK 8\\FINAL PROJECT\\IRON HACK PROJECT MRI\\TRAINING DATA\\cobre\"\n",
    "spf.move_file_control(directory)\n",
    "spf.move_file_schiz(directory)"
   ]
  },
  {
   "cell_type": "code",
   "execution_count": null,
   "metadata": {},
   "outputs": [],
   "source": [
    "directory = r\"c:\\Users\\JimiH\\IRON HACK\\WEEK 8\\FINAL PROJECT\\IRON HACK PROJECT MRI\\TRAINING DATA\\on_ds004302\"\n",
    "\n",
    "spf.move_file_control(directory)\n",
    "spf.move_file_schiz(directory)"
   ]
  },
  {
   "cell_type": "code",
   "execution_count": null,
   "metadata": {},
   "outputs": [],
   "source": [
    "directory = r\"c:\\Users\\JimiH\\IRON HACK\\WEEK 8\\FINAL PROJECT\\IRON HACK PROJECT MRI\\TRAINING DATA\\on_ds004837\"\n",
    "spf.move_file_control(directory)\n",
    "spf.move_file_schiz(directory)"
   ]
  },
  {
   "cell_type": "code",
   "execution_count": null,
   "metadata": {},
   "outputs": [],
   "source": [
    "#FLIP AND REORDER AXES OF STUDY ON_DS004873\n",
    "\n",
    "Directory containing the MRI files\n",
    "input_dir = r\"c:\\Users\\JimiH\\IRON HACK\\WEEK 8\\FINAL PROJECT\\IRON HACK PROJECT MRI\\TRAINING DATA\\on_ds004873\\control\"\n",
    "output_dir = r\"c:\\Users\\JimiH\\IRON HACK\\WEEK 8\\FINAL PROJECT\\IRON HACK PROJECT MRI\\TRAINING DATA\\on_ds004873\\control\\axes_transposed_flipped\"\n",
    "os.makedirs(output_dir, exist_ok=True)\n",
    "\n",
    "# Process each .nii file in the input directory\n",
    "for filename in os.listdir(input_dir):\n",
    "    if filename.endswith(\".nii.gz\"):\n",
    "        # Load the MRI scan\n",
    "        input_path = os.path.join(input_dir, filename)\n",
    "        img = nib.load(input_path)\n",
    "        data = img.get_fdata()\n",
    "        \n",
    "        # Set the current order and the target order for standardization\n",
    "        current_order = (1, 2, 0)  # Assuming current order is (coronal, axial, sagittal)\n",
    "        target_order = (0, 1, 2)  # Desired order (sagittal, coronal, axial)\n",
    "        \n",
    "        # Apply reordering and flipping\n",
    "        transformed_data = spf.reorder_and_flip_axes(data, current_order, target_order)\n",
    "        \n",
    "        # Save the transformed image\n",
    "        output_path = os.path.join(output_dir, filename)\n",
    "        transformed_img = nib.Nifti1Image(transformed_data, img.affine, img.header)\n",
    "        nib.save(transformed_img, output_path)\n",
    "        print(f\"Transformed and saved: {output_path}\")"
   ]
  },
  {
   "cell_type": "markdown",
   "metadata": {},
   "source": [
    "## APPLYING FSL SKULL STRIPPING TOOL BET"
   ]
  },
  {
   "cell_type": "markdown",
   "metadata": {},
   "source": [
    "Download the FSL Library from https://fsl.fmrib.ox.ac.uk/fsl/docs/#/ and follow the instructions. If you are using Windows you should probably install Ubuntu WSL to properly use the FSL tools, since they are optimized for Linux. Use bash scripts to execute BET commands (they are contained as .sh files in the repository).\n",
    "\n",
    "BET removes any non-brain tissue from the MRI scan."
   ]
  },
  {
   "cell_type": "code",
   "execution_count": null,
   "metadata": {},
   "outputs": [],
   "source": [
    "# INSPECT SCANS AFTER APPLYING SKULL STRIPPING.\n",
    "# DISPLAYS THE FIRST SCAN OUT OF EVERY CONTROL AND SCHIZOPHRENIC FOLDER OF EVERY STUDY.\n",
    "\n",
    "directories = [\n",
    "    r\"c:\\Users\\JimiH\\IRON HACK\\WEEK 8\\FINAL PROJECT\\IRON HACK PROJECT MRI\\TRAINING DATA\\skull_strip\\stripped\\cobre\\control\",\n",
    "    r\"c:\\Users\\JimiH\\IRON HACK\\WEEK 8\\FINAL PROJECT\\IRON HACK PROJECT MRI\\TRAINING DATA\\skull_strip\\stripped\\cobre\\schiz\",\n",
    "    r\"c:\\Users\\JimiH\\IRON HACK\\WEEK 8\\FINAL PROJECT\\IRON HACK PROJECT MRI\\TRAINING DATA\\skull_strip\\stripped\\on_ds004302\\control\",\n",
    "    r\"c:\\Users\\JimiH\\IRON HACK\\WEEK 8\\FINAL PROJECT\\IRON HACK PROJECT MRI\\TRAINING DATA\\skull_strip\\stripped\\on_ds004302\\schiz\",\n",
    "    r\"c:\\Users\\JimiH\\IRON HACK\\WEEK 8\\FINAL PROJECT\\IRON HACK PROJECT MRI\\TRAINING DATA\\skull_strip\\stripped\\on_ds004837\\control\",\n",
    "    r\"c:\\Users\\JimiH\\IRON HACK\\WEEK 8\\FINAL PROJECT\\IRON HACK PROJECT MRI\\TRAINING DATA\\skull_strip\\stripped\\on_ds004837\\schiz\",\n",
    "    r\"c:\\Users\\JimiH\\IRON HACK\\WEEK 8\\FINAL PROJECT\\IRON HACK PROJECT MRI\\TRAINING DATA\\skull_strip\\stripped\\on_ds005073\\control\",\n",
    "    r\"c:\\Users\\JimiH\\IRON HACK\\WEEK 8\\FINAL PROJECT\\IRON HACK PROJECT MRI\\TRAINING DATA\\skull_strip\\stripped\\on_ds005073\\schiz\",\n",
    "    r\"c:\\Users\\JimiH\\IRON HACK\\WEEK 8\\FINAL PROJECT\\IRON HACK PROJECT MRI\\TRAINING DATA\\skull_strip\\stripped\\on_ds004873\\control\"\n",
    "\n",
    "]\n",
    "\n",
    "# List to hold file paths of the first .nii file found in each directory\n",
    "nii_files = []\n",
    "\n",
    "# Find the first .nii file in each directory\n",
    "for directory in directories:\n",
    "    for file in os.listdir(directory):\n",
    "        if file.endswith(\".nii.gz\"):\n",
    "            nii_files.append(os.path.join(directory, file))\n",
    "            break  # Stop after the first .nii file in the directory\n",
    "\n",
    "# Set up the plot grid based on the number of .nii files\n",
    "num_files = len(nii_files)\n",
    "fig, axes = plt.subplots(num_files, 3, figsize=(15, 5 * num_files))\n",
    "\n",
    "# Display slices from each .nii file\n",
    "for i, path in enumerate(nii_files):\n",
    "    img = nib.load(path)\n",
    "    data = img.get_fdata()\n",
    "    \n",
    "    # Get central slices\n",
    "    slice_x = data.shape[0] // 2  # Sagittal slice (X-axis)\n",
    "    slice_y = data.shape[1] // 2  # Coronal slice (Y-axis)\n",
    "    slice_z = data.shape[2] // 2  # Axial slice (Z-axis)\n",
    "\n",
    "    # Display Sagittal slice\n",
    "    axes[i, 0].imshow(data[slice_x, :, :], cmap='gray', origin=\"lower\")\n",
    "    axes[i, 0].set_title(f\"Sagittal Slice (X-axis) - {os.path.basename(path)}\")\n",
    "    axes[i, 0].axis('off')\n",
    "\n",
    "    # Display Coronal slice\n",
    "    axes[i, 1].imshow(data[:, slice_y, :], cmap='gray', origin=\"lower\")\n",
    "    axes[i, 1].set_title(f\"Coronal Slice (Y-axis) - {os.path.basename(path)}\")\n",
    "    axes[i, 1].axis('off')\n",
    "\n",
    "    # Display Axial slice\n",
    "    axes[i, 2].imshow(data[:, :, slice_z], cmap='gray', origin=\"lower\")\n",
    "    axes[i, 2].set_title(f\"Axial Slice (Z-axis) - {os.path.basename(path)}\")\n",
    "    axes[i, 2].axis('off')\n",
    "\n",
    "plt.tight_layout()\n",
    "plt.savefig(\"skull_stripped.png\", dpi=300)\n",
    "plt.show()\n"
   ]
  },
  {
   "cell_type": "markdown",
   "metadata": {},
   "source": [
    "## APPLYING Z-SCORE NORMALIZATION"
   ]
  },
  {
   "cell_type": "code",
   "execution_count": null,
   "metadata": {},
   "outputs": [],
   "source": [
    "directory = r\"c:\\Users\\JimiH\\IRON HACK\\WEEK 8\\FINAL PROJECT\\IRON HACK PROJECT MRI\\TRAINING DATA\\skull_strip\\stripped\"\n",
    "spf.z_score_normalize(directory)"
   ]
  },
  {
   "cell_type": "code",
   "execution_count": null,
   "metadata": {},
   "outputs": [],
   "source": [
    "# INSPECT SCANS AFTER APPLYING Z-SCORE NORMALIZATION.\n",
    "# DISPLAYS THE FIRST SCAN OUT OF EVERY CONTROL AND SCHIZOPHRENIC FOLDER OF EVERY STUDY.\n",
    "\n",
    "# List of directories to search for the first .nii file\n",
    "directories = [\n",
    "    r\"c:\\Users\\JimiH\\IRON HACK\\WEEK 8\\FINAL PROJECT\\IRON HACK PROJECT MRI\\TRAINING DATA\\skull_strip\\stripped\\znorm\\cobre\\control\",\n",
    "    r\"c:\\Users\\JimiH\\IRON HACK\\WEEK 8\\FINAL PROJECT\\IRON HACK PROJECT MRI\\TRAINING DATA\\skull_strip\\stripped\\znorm\\cobre\\schiz\",\n",
    "    r\"c:\\Users\\JimiH\\IRON HACK\\WEEK 8\\FINAL PROJECT\\IRON HACK PROJECT MRI\\TRAINING DATA\\skull_strip\\stripped\\znorm\\on_ds004302\\control\",\n",
    "    r\"c:\\Users\\JimiH\\IRON HACK\\WEEK 8\\FINAL PROJECT\\IRON HACK PROJECT MRI\\TRAINING DATA\\skull_strip\\stripped\\znorm\\on_ds004302\\schiz\",\n",
    "    r\"c:\\Users\\JimiH\\IRON HACK\\WEEK 8\\FINAL PROJECT\\IRON HACK PROJECT MRI\\TRAINING DATA\\skull_strip\\stripped\\znorm\\on_ds004837\\control\",\n",
    "    r\"c:\\Users\\JimiH\\IRON HACK\\WEEK 8\\FINAL PROJECT\\IRON HACK PROJECT MRI\\TRAINING DATA\\skull_strip\\stripped\\znorm\\on_ds004837\\schiz\",\n",
    "    r\"c:\\Users\\JimiH\\IRON HACK\\WEEK 8\\FINAL PROJECT\\IRON HACK PROJECT MRI\\TRAINING DATA\\skull_strip\\stripped\\znorm\\on_ds005073\\control\",\n",
    "    r\"c:\\Users\\JimiH\\IRON HACK\\WEEK 8\\FINAL PROJECT\\IRON HACK PROJECT MRI\\TRAINING DATA\\skull_strip\\stripped\\znorm\\on_ds005073\\schiz\",\n",
    "    r\"c:\\Users\\JimiH\\IRON HACK\\WEEK 8\\FINAL PROJECT\\IRON HACK PROJECT MRI\\TRAINING DATA\\skull_strip\\stripped\\znorm\\on_ds004873\\control\"\n",
    "\n",
    "    # Add more directories as needed\n",
    "]\n",
    "\n",
    "# List to hold file paths of the first .nii file found in each directory\n",
    "nii_files = []\n",
    "\n",
    "# Find the first .nii file in each directory\n",
    "for directory in directories:\n",
    "    for file in os.listdir(directory):\n",
    "        if file.endswith(\".nii.gz\"):\n",
    "            nii_files.append(os.path.join(directory, file))\n",
    "            break  # Stop after the first .nii file in the directory\n",
    "\n",
    "# Set up the plot grid based on the number of .nii files\n",
    "num_files = len(nii_files)\n",
    "fig, axes = plt.subplots(num_files, 3, figsize=(15, 5 * num_files))\n",
    "\n",
    "# Display slices from each .nii file\n",
    "for i, path in enumerate(nii_files):\n",
    "    img = nib.load(path)\n",
    "    data = img.get_fdata()\n",
    "    \n",
    "    # Get central slices\n",
    "    slice_x = data.shape[0] // 2  # Sagittal slice (X-axis)\n",
    "    slice_y = data.shape[1] // 2  # Coronal slice (Y-axis)\n",
    "    slice_z = data.shape[2] // 2  # Axial slice (Z-axis)\n",
    "\n",
    "    # Display Sagittal slice\n",
    "    axes[i, 0].imshow(data[slice_x, :, :], cmap='gray', origin=\"lower\")\n",
    "    axes[i, 0].set_title(f\"Sagittal Slice (X-axis) - {os.path.basename(path)}\")\n",
    "    axes[i, 0].axis('off')\n",
    "\n",
    "    # Display Coronal slice\n",
    "    axes[i, 1].imshow(data[:, slice_y, :], cmap='gray', origin=\"lower\")\n",
    "    axes[i, 1].set_title(f\"Coronal Slice (Y-axis) - {os.path.basename(path)}\")\n",
    "    axes[i, 1].axis('off')\n",
    "\n",
    "    # Display Axial slice\n",
    "    axes[i, 2].imshow(data[:, :, slice_z], cmap='gray', origin=\"lower\")\n",
    "    axes[i, 2].set_title(f\"Axial Slice (Z-axis) - {os.path.basename(path)}\")\n",
    "    axes[i, 2].axis('off')\n",
    "\n",
    "plt.tight_layout()\n",
    "plt.savefig(\"skull_stripped.png\", dpi=300)\n",
    "plt.show()"
   ]
  },
  {
   "cell_type": "markdown",
   "metadata": {},
   "source": [
    "## APPLYING FSL ALIGNMENT TOOL FLIRT"
   ]
  },
  {
   "cell_type": "markdown",
   "metadata": {},
   "source": [
    "Download the FSL Library from https://fsl.fmrib.ox.ac.uk/fsl/docs/#/ and follow the instructions. If you are using Windows you should probably install Ubuntu WSL to properly use the FSL tools, since they are optimized for Linux. Use bash scripts to execute FLIRT commands (they are contained as .sh files in the repository).\n",
    "\n",
    "FLIRT aligns every scan using a standardized high-quality MRI as a template."
   ]
  },
  {
   "cell_type": "code",
   "execution_count": null,
   "metadata": {},
   "outputs": [],
   "source": [
    "# INSPECT THE SCANS AFTER APPLYING FLIRT.\n",
    "# DISPLAYS THE FIRST SCAN OUT OF EVERY CONTROL AND SCHIZOPHRENIC FOLDER OF EVERY STUDY.\n",
    "# ALSO DISPLAYS THE SHAPE TO SEE IF SLICE COUNTS ARE NORMALIZED FOR EVERY SCAN (NECESSARY FOR CNN INPUT.)\n",
    "\n",
    "# List of directories to search for the first .nii file\n",
    "directories = [\n",
    "    r\"c:\\Users\\JimiH\\IRON HACK\\WEEK 8\\FINAL PROJECT\\IRON HACK PROJECT MRI\\TRAINING DATA\\skull_strip\\stripped\\znorm_flirt_only\\cobre\\control\\FLIRT\",\n",
    "    r\"c:\\Users\\JimiH\\IRON HACK\\WEEK 8\\FINAL PROJECT\\IRON HACK PROJECT MRI\\TRAINING DATA\\skull_strip\\stripped\\znorm_flirt_only\\cobre\\schiz\\FLIRT\",\n",
    "    r\"c:\\Users\\JimiH\\IRON HACK\\WEEK 8\\FINAL PROJECT\\IRON HACK PROJECT MRI\\TRAINING DATA\\skull_strip\\stripped\\znorm_flirt_only\\on_ds004302\\control\\FLIRT\",\n",
    "    r\"c:\\Users\\JimiH\\IRON HACK\\WEEK 8\\FINAL PROJECT\\IRON HACK PROJECT MRI\\TRAINING DATA\\skull_strip\\stripped\\znorm_flirt_only\\on_ds004302\\schiz\\FLIRT\",\n",
    "    r\"c:\\Users\\JimiH\\IRON HACK\\WEEK 8\\FINAL PROJECT\\IRON HACK PROJECT MRI\\TRAINING DATA\\skull_strip\\stripped\\znorm_flirt_only\\on_ds004837\\control\\FLIRT\",\n",
    "    r\"c:\\Users\\JimiH\\IRON HACK\\WEEK 8\\FINAL PROJECT\\IRON HACK PROJECT MRI\\TRAINING DATA\\skull_strip\\stripped\\znorm_flirt_only\\on_ds004837\\schiz\\FLIRT\",\n",
    "    r\"c:\\Users\\JimiH\\IRON HACK\\WEEK 8\\FINAL PROJECT\\IRON HACK PROJECT MRI\\TRAINING DATA\\skull_strip\\stripped\\znorm_flirt_only\\on_ds005073\\control\\FLIRT\",\n",
    "    r\"c:\\Users\\JimiH\\IRON HACK\\WEEK 8\\FINAL PROJECT\\IRON HACK PROJECT MRI\\TRAINING DATA\\skull_strip\\stripped\\znorm_flirt_only\\on_ds005073\\schiz\\FLIRT\",\n",
    "    r\"c:\\Users\\JimiH\\IRON HACK\\WEEK 8\\FINAL PROJECT\\IRON HACK PROJECT MRI\\TRAINING DATA\\skull_strip\\stripped\\znorm_flirt_only\\on_ds004873\\control\\FLIRT\"\n",
    "\n",
    "    # Add more directories as needed\n",
    "]\n",
    "\n",
    "# List to hold file paths of the first .nii file found in each directory\n",
    "nii_files = []\n",
    "\n",
    "# Find the first .nii file in each directory\n",
    "for directory in directories:\n",
    "    for file in os.listdir(directory):\n",
    "        if file.endswith(\".nii.gz\"):\n",
    "            nii_files.append(os.path.join(directory, file))\n",
    "            break  # Stop after the first .nii file in the directory\n",
    "\n",
    "# Set up the plot grid based on the number of .nii files\n",
    "num_files = len(nii_files)\n",
    "fig, axes = plt.subplots(num_files, 3, figsize=(15, 5 * num_files))\n",
    "\n",
    "# Display slices from each .nii file\n",
    "for i, path in enumerate(nii_files):\n",
    "    img = nib.load(path)\n",
    "    data = img.get_fdata()\n",
    "    \n",
    "    # Print the shape of the current scan\n",
    "    print(f\"Scan {os.path.basename(path)} shape: {data.shape}\")\n",
    "    \n",
    "    # Get central slices\n",
    "    slice_x = data.shape[0] // 2  # Sagittal slice (X-axis)\n",
    "    slice_y = data.shape[1] // 2  # Coronal slice (Y-axis)\n",
    "    slice_z = data.shape[2] // 2  # Axial slice (Z-axis)\n",
    "\n",
    "    # Display Sagittal slice\n",
    "    axes[i, 0].imshow(data[(slice_x-4), :, :], cmap='gray', origin=\"lower\")\n",
    "    axes[i, 0].set_title(f\"Sagittal Slice (X-axis) - {os.path.basename(path)}\")\n",
    "    axes[i, 0].axis('off')\n",
    "\n",
    "    # Display Coronal slice\n",
    "    axes[i, 1].imshow(data[:, slice_y, :], cmap='gray', origin=\"lower\")\n",
    "    axes[i, 1].set_title(f\"Coronal Slice (Y-axis) - {os.path.basename(path)}\")\n",
    "    axes[i, 1].axis('off')\n",
    "\n",
    "    # Display Axial slice\n",
    "    axes[i, 2].imshow(data[:, :, slice_z], cmap='gray', origin=\"lower\")\n",
    "    axes[i, 2].set_title(f\"Axial Slice (Z-axis) - {os.path.basename(path)}\")\n",
    "    axes[i, 2].axis('off')\n",
    "\n",
    "plt.tight_layout()\n",
    "plt.savefig(\"skull_stripped.png\", dpi=300)\n",
    "plt.show()\n",
    "\n"
   ]
  },
  {
   "cell_type": "markdown",
   "metadata": {},
   "source": [
    "## RE-APPLY Z-SCORE NORMALIZATION AFTER CALCULATING THE GLOBAL INTENSITY MEAN OVER EVERY STUDY!"
   ]
  },
  {
   "cell_type": "code",
   "execution_count": null,
   "metadata": {},
   "outputs": [],
   "source": [
    "directories = [\n",
    "    r\"c:\\Users\\JimiH\\IRON HACK\\WEEK 8\\FINAL PROJECT\\IRON HACK PROJECT MRI\\TRAINING DATA\\skull_strip\\stripped\\znorm_flirt_only\\cobre\\control\\FLIRT\",\n",
    "    r\"c:\\Users\\JimiH\\IRON HACK\\WEEK 8\\FINAL PROJECT\\IRON HACK PROJECT MRI\\TRAINING DATA\\skull_strip\\stripped\\znorm_flirt_only\\cobre\\schiz\\FLIRT\",\n",
    "    r\"c:\\Users\\JimiH\\IRON HACK\\WEEK 8\\FINAL PROJECT\\IRON HACK PROJECT MRI\\TRAINING DATA\\skull_strip\\stripped\\znorm_flirt_only\\on_ds004302\\control\\FLIRT\",\n",
    "    r\"c:\\Users\\JimiH\\IRON HACK\\WEEK 8\\FINAL PROJECT\\IRON HACK PROJECT MRI\\TRAINING DATA\\skull_strip\\stripped\\znorm_flirt_only\\on_ds004302\\schiz\\FLIRT\",\n",
    "    r\"c:\\Users\\JimiH\\IRON HACK\\WEEK 8\\FINAL PROJECT\\IRON HACK PROJECT MRI\\TRAINING DATA\\skull_strip\\stripped\\znorm_flirt_only\\on_ds004837\\control\\FLIRT\",\n",
    "    r\"c:\\Users\\JimiH\\IRON HACK\\WEEK 8\\FINAL PROJECT\\IRON HACK PROJECT MRI\\TRAINING DATA\\skull_strip\\stripped\\znorm_flirt_only\\on_ds004837\\schiz\\FLIRT\",\n",
    "    r\"c:\\Users\\JimiH\\IRON HACK\\WEEK 8\\FINAL PROJECT\\IRON HACK PROJECT MRI\\TRAINING DATA\\skull_strip\\stripped\\znorm_flirt_only\\on_ds005073\\control\\FLIRT\",\n",
    "    r\"c:\\Users\\JimiH\\IRON HACK\\WEEK 8\\FINAL PROJECT\\IRON HACK PROJECT MRI\\TRAINING DATA\\skull_strip\\stripped\\znorm_flirt_only\\on_ds005073\\schiz\\FLIRT\",\n",
    "    r\"c:\\Users\\JimiH\\IRON HACK\\WEEK 8\\FINAL PROJECT\\IRON HACK PROJECT MRI\\TRAINING DATA\\skull_strip\\stripped\\znorm_flirt_only\\on_ds004873\\control\\FLIRT\"\n",
    "]\n",
    "\n",
    "#Step 1: Calculate global mean and std from the dataset\n",
    "global_mean, global_std = calculate_global_mean_std(directories)\n",
    "print(f\"Global mean: {global_mean}, Global std: {global_std}\")\n",
    "\n",
    "#Step 2: Normalize all scans to the calculated global mean and std\n",
    "apply_normalization(directories, global_mean, global_std)"
   ]
  },
  {
   "cell_type": "code",
   "execution_count": null,
   "metadata": {},
   "outputs": [],
   "source": [
    "# INSPECT THE SCANS AFTER APPLYING GLOBAL Z-SCORE NORMALIZATION.\n",
    "# DISPLAYS THE FIRST SCAN OUT OF EVERY CONTROL AND SCHIZOPHRENIC FOLDER OF EVERY STUDY.\n",
    "# ALSO DISPLAYS THE SHAPE TO SEE IF SLICE COUNTS ARE NORMALIZED FOR EVERY SCAN (NECESSARY FOR CNN INPUT.)\n",
    "\n",
    "directories = [\n",
    "    r\"c:\\Users\\JimiH\\IRON HACK\\WEEK 8\\FINAL PROJECT\\IRON HACK PROJECT MRI\\TRAINING DATA\\skull_strip\\stripped\\znorm_flirt_only\\cobre\\control\\FLIRT_brightness_normalized\",\n",
    "    r\"c:\\Users\\JimiH\\IRON HACK\\WEEK 8\\FINAL PROJECT\\IRON HACK PROJECT MRI\\TRAINING DATA\\skull_strip\\stripped\\znorm_flirt_only\\cobre\\schiz\\FLIRT_brightness_normalized\",\n",
    "    r\"c:\\Users\\JimiH\\IRON HACK\\WEEK 8\\FINAL PROJECT\\IRON HACK PROJECT MRI\\TRAINING DATA\\skull_strip\\stripped\\znorm_flirt_only\\on_ds004302\\control\\FLIRT_brightness_normalized\",\n",
    "    r\"c:\\Users\\JimiH\\IRON HACK\\WEEK 8\\FINAL PROJECT\\IRON HACK PROJECT MRI\\TRAINING DATA\\skull_strip\\stripped\\znorm_flirt_only\\on_ds004302\\schiz\\FLIRT_brightness_normalized\",\n",
    "    r\"c:\\Users\\JimiH\\IRON HACK\\WEEK 8\\FINAL PROJECT\\IRON HACK PROJECT MRI\\TRAINING DATA\\skull_strip\\stripped\\znorm_flirt_only\\on_ds004837\\control\\FLIRT_brightness_normalized\",\n",
    "    r\"c:\\Users\\JimiH\\IRON HACK\\WEEK 8\\FINAL PROJECT\\IRON HACK PROJECT MRI\\TRAINING DATA\\skull_strip\\stripped\\znorm_flirt_only\\on_ds004837\\schiz\\FLIRT_brightness_normalized\",\n",
    "    r\"c:\\Users\\JimiH\\IRON HACK\\WEEK 8\\FINAL PROJECT\\IRON HACK PROJECT MRI\\TRAINING DATA\\skull_strip\\stripped\\znorm_flirt_only\\on_ds005073\\control\\FLIRT_brightness_normalized\",\n",
    "    r\"c:\\Users\\JimiH\\IRON HACK\\WEEK 8\\FINAL PROJECT\\IRON HACK PROJECT MRI\\TRAINING DATA\\skull_strip\\stripped\\znorm_flirt_only\\on_ds005073\\schiz\\FLIRT_brightness_normalized\",\n",
    "    r\"c:\\Users\\JimiH\\IRON HACK\\WEEK 8\\FINAL PROJECT\\IRON HACK PROJECT MRI\\TRAINING DATA\\skull_strip\\stripped\\znorm_flirt_only\\on_ds004873\\control\\FLIRT_brightness_normalized\"\n",
    "]\n",
    "\n",
    "# List to hold file paths of the first .nii file found in each directory\n",
    "nii_files = []\n",
    "\n",
    "# Find the first .nii file in each directory\n",
    "for directory in directories:\n",
    "    for file in os.listdir(directory):\n",
    "        if file.endswith(\".nii.gz\"):\n",
    "            nii_files.append(os.path.join(directory, file))\n",
    "            break  # Stop after the first .nii file in the directory\n",
    "\n",
    "# Set up the plot grid based on the number of .nii files\n",
    "num_files = len(nii_files)\n",
    "fig, axes = plt.subplots(num_files, 3, figsize=(15, 5 * num_files))\n",
    "\n",
    "# Display slices from each .nii file\n",
    "for i, path in enumerate(nii_files):\n",
    "    img = nib.load(path)\n",
    "    data = img.get_fdata()\n",
    "    \n",
    "    # Print the shape of the current scan\n",
    "    print(f\"Scan {os.path.basename(path)} shape: {data.shape}\")\n",
    "    \n",
    "    # Get central slices\n",
    "    slice_x = data.shape[0] // 2  # Sagittal slice (X-axis)\n",
    "    slice_y = data.shape[1] // 2  # Coronal slice (Y-axis)\n",
    "    slice_z = data.shape[2] // 2  # Axial slice (Z-axis)\n",
    "\n",
    "    # Display Sagittal slice\n",
    "    axes[i, 0].imshow(data[slice_x, :, :], cmap='gray', origin=\"lower\")\n",
    "    axes[i, 0].set_title(f\"Sagittal Slice (X-axis) - {os.path.basename(path)}\")\n",
    "    axes[i, 0].axis('off')\n",
    "\n",
    "    # Display Coronal slice\n",
    "    axes[i, 1].imshow(data[:, slice_y, :], cmap='gray', origin=\"lower\")\n",
    "    axes[i, 1].set_title(f\"Coronal Slice (Y-axis) - {os.path.basename(path)}\")\n",
    "    axes[i, 1].axis('off')\n",
    "\n",
    "    # Display Axial slice\n",
    "    axes[i, 2].imshow(data[:, :, slice_z], cmap='gray', origin=\"lower\")\n",
    "    axes[i, 2].set_title(f\"Axial Slice (Z-axis) - {os.path.basename(path)}\")\n",
    "    axes[i, 2].axis('off')\n",
    "\n",
    "plt.tight_layout()\n",
    "plt.savefig(\"skull_stripped.png\", dpi=300)\n",
    "plt.show()\n"
   ]
  },
  {
   "cell_type": "markdown",
   "metadata": {},
   "source": [
    "## STANDARDIZING FILENAMES FOR ML TRAINING"
   ]
  },
  {
   "cell_type": "code",
   "execution_count": null,
   "metadata": {},
   "outputs": [],
   "source": [
    "directory = r\"c:\\Users\\JimiH\\IRON HACK\\WEEK 8\\FINAL PROJECT\\IRON HACK PROJECT MRI\\TRAINING DATA\\skull_strip\\stripped\\znorm_flirt_only\\on_ds004302\\control\\FLIRT_brightness_normalized\"\n",
    "spf.add_stripped_to_filenames(directory)"
   ]
  },
  {
   "cell_type": "code",
   "execution_count": null,
   "metadata": {},
   "outputs": [],
   "source": [
    "directory = r\"c:\\Users\\JimiH\\IRON HACK\\WEEK 8\\FINAL PROJECT\\IRON HACK PROJECT MRI\\TRAINING DATA\\skull_strip\\stripped\\znorm_flirt_only\\on_ds004302\\schiz\\FLIRT_brightness_normalized\"\n",
    "spf.add_stripped_to_filenames(directory)"
   ]
  },
  {
   "cell_type": "code",
   "execution_count": null,
   "metadata": {},
   "outputs": [],
   "source": [
    "metadata_control_fn_proc = spf.add_stripped_to_filenames_in_df(metadata_control_fn)"
   ]
  },
  {
   "cell_type": "code",
   "execution_count": null,
   "metadata": {},
   "outputs": [],
   "source": [
    "metadata_schiz_fn_proc = spf.add_stripped_to_filenames_in_df(metadata_schiz_fn)"
   ]
  },
  {
   "cell_type": "markdown",
   "metadata": {},
   "source": [
    "## PATIENT SELECTION"
   ]
  },
  {
   "cell_type": "markdown",
   "metadata": {},
   "source": [
    "Selecting Patients under 55 to reduce confounding of age-related atrophy with schizophrenia related volume reduction. Also limiting the training to right-handed patients since left-handed patients can also have differing brain structure."
   ]
  },
  {
   "cell_type": "code",
   "execution_count": null,
   "metadata": {},
   "outputs": [],
   "source": [
    "metadata_schiz_slct = metadata_schiz_fn_proc[(metadata_schiz_fn_proc[\"age\"]<=55) & (metadata_schiz_fn_proc[\"handedness\"]==\"R\")]\n",
    "metadata_schiz_slct.shape"
   ]
  },
  {
   "cell_type": "code",
   "execution_count": null,
   "metadata": {},
   "outputs": [],
   "source": [
    "metadata_control_slct = metadata_control_fn_proc[(metadata_control_fn_proc[\"age\"]<=55) & (metadata_control_fn_proc[\"handedness\"]==\"R\")]\n",
    "metadata_control_slct.shape"
   ]
  },
  {
   "cell_type": "code",
   "execution_count": null,
   "metadata": {},
   "outputs": [],
   "source": [
    "#Creating a single dataframe for ML model training, adding group column.\n",
    "metadata_control_slct[\"group\"] = \"control\"\n",
    "metadata_schiz_slct[\"group\"] = \"schiz\"\n",
    "metadata_slct = pd.concat([metadata_control_slct,metadata_schiz_slct], ignore_index=True)"
   ]
  },
  {
   "cell_type": "code",
   "execution_count": null,
   "metadata": {},
   "outputs": [],
   "source": [
    "#Adding a binary label for the ML model.\n",
    "metadata_slct['label'] = metadata_slct['group'].map({'control': 0, 'schiz': 1})"
   ]
  },
  {
   "cell_type": "markdown",
   "metadata": {},
   "source": [
    "## CONCLUDING EDA BEFORE CNN MODEL TRAINING"
   ]
  },
  {
   "cell_type": "code",
   "execution_count": null,
   "metadata": {},
   "outputs": [],
   "source": [
    "plt.figure(figsize=(10, 6))  # Set figure size to be wider and less tall\n",
    "sns.histplot(metadata_control_slct['age'], kde=True, color='blue')\n",
    "plt.title(\"Age Distribution of Control Group\")  # Add your title here\n",
    "plt.savefig(\"control_age.png\", dpi=300)\n",
    "plt.show()"
   ]
  },
  {
   "cell_type": "code",
   "execution_count": null,
   "metadata": {},
   "outputs": [],
   "source": [
    "plt.figure(figsize=(10, 6))  # Set figure size to be wider and less tall\n",
    "sns.histplot(metadata_schiz_slct['age'], kde=True, color='blue')\n",
    "plt.title(\"Age Distribution of Schizophrenic Group\")  # Add your title here\n",
    "plt.savefig(\"schiz_age.png\", dpi=300)\n",
    "plt.show()\n"
   ]
  },
  {
   "cell_type": "code",
   "execution_count": null,
   "metadata": {},
   "outputs": [],
   "source": [
    "import matplotlib.pyplot as plt\n",
    "import seaborn as sns\n",
    "\n",
    "# Assuming your DataFrame has a 'gender' column\n",
    "plt.figure(figsize=(8, 6))  # Set the figure size\n",
    "sns.countplot(data=metadata_slct, x='sex', hue = 'group')  # Plot gender counts\n",
    "\n",
    "plt.title(\"Gender Distribution\")  # Add title\n",
    "plt.xlabel(\"Gender\")  # Label x-axis\n",
    "plt.ylabel(\"Count\")   # Label y-axis\n",
    "plt.savefig(\"gender_distribution.png\", dpi=300)\n",
    "plt.show()\n"
   ]
  },
  {
   "cell_type": "code",
   "execution_count": null,
   "metadata": {},
   "outputs": [],
   "source": [
    "#CHECK TENSORFOW FOR GPU COMPATIBILITY\n",
    "print(tf.__version__)\n",
    "print(\"Built with CUDA:\", tf.test.is_built_with_cuda())\n",
    "print(\"Built with GPU support:\", tf.test.is_built_with_gpu_support())\n",
    "print(\"Num GPUs Available: \", len(tf.config.list_physical_devices('GPU')))\n",
    "\n"
   ]
  },
  {
   "cell_type": "markdown",
   "metadata": {},
   "source": [
    "## CREATING AND TRAINING A 3D CNN MODEL"
   ]
  },
  {
   "cell_type": "code",
   "execution_count": null,
   "metadata": {},
   "outputs": [],
   "source": [
    "#LIMIT GPU VRAM USAGE BY TENSORFLOW TO PREVENT MEMORY EXHAUSTION\n",
    "from tensorflow.keras.mixed_precision import set_global_policy\n",
    "\n",
    "# Set the global policy to mixed_float16\n",
    "set_global_policy('mixed_float16')"
   ]
  },
  {
   "cell_type": "code",
   "execution_count": null,
   "metadata": {},
   "outputs": [],
   "source": [
    "## INPUT SHAPE: (182, 218, 182)"
   ]
  },
  {
   "cell_type": "code",
   "execution_count": null,
   "metadata": {},
   "outputs": [],
   "source": [
    "#Initial model architecture\n",
    "\"\"\"\n",
    "from tensorflow.keras.models import Sequential\n",
    "from tensorflow.keras.layers import Conv3D, MaxPooling3D, GlobalAveragePooling3D, Dense, Dropout\n",
    "\n",
    "def create_3d_cnn_model(input_shape=(182, 218, 182, 1)):\n",
    "    model = Sequential([\n",
    "        Conv3D(32, (3, 3, 3), activation='relu', input_shape=input_shape),\n",
    "        MaxPooling3D((2, 2, 2)),\n",
    "        Conv3D(64, (3, 3, 3), activation='relu'),\n",
    "        MaxPooling3D((2, 2, 2)),\n",
    "        Conv3D(128, (3, 3, 3), activation='relu'),\n",
    "        MaxPooling3D((2, 2, 2)),\n",
    "        \n",
    "        GlobalAveragePooling3D(),  # Replaces Flatten to reduce parameters\n",
    "        Dense(128, activation='relu'),\n",
    "        Dropout(0.5),\n",
    "        Dense(1, activation='sigmoid')  # Sigmoid for binary classification\n",
    "    ])\n",
    "    return model\n",
    "\"\"\""
   ]
  },
  {
   "cell_type": "code",
   "execution_count": null,
   "metadata": {},
   "outputs": [],
   "source": [
    "# Revised model architecture\n",
    "def create_3d_cnn_model(input_shape=(182, 218, 182, 1)):\n",
    "    model = Sequential([\n",
    "        Conv3D(16, (3, 3, 3), activation='relu', kernel_initializer=he_normal(), input_shape=input_shape),\n",
    "        BatchNormalization(),\n",
    "        MaxPooling3D((2, 2, 2)),\n",
    "        \n",
    "        Conv3D(32, (3, 3, 3), activation='relu', kernel_initializer=he_normal()),\n",
    "        BatchNormalization(),\n",
    "        MaxPooling3D((2, 2, 2)),\n",
    "        \n",
    "        Conv3D(64, (3, 3, 3), activation='relu', kernel_initializer=he_normal()),\n",
    "        BatchNormalization(),\n",
    "        MaxPooling3D((2, 2, 2)),\n",
    "        \n",
    "        GlobalAveragePooling3D(),\n",
    "        Dense(64, activation='relu', kernel_initializer=he_normal()),\n",
    "        Dropout(0.5),\n",
    "        Dense(1, activation='sigmoid', kernel_initializer=he_normal())  # Final layer\n",
    "    ])\n",
    "    return model\n"
   ]
  },
  {
   "cell_type": "code",
   "execution_count": null,
   "metadata": {},
   "outputs": [],
   "source": [
    "directories = [\n",
    "    r\"c:\\Users\\JimiH\\IRON HACK\\WEEK 8\\FINAL PROJECT\\IRON HACK PROJECT MRI\\TRAINING DATA\\skull_strip\\stripped\\znorm_flirt_only\\cobre\\control\\FLIRT_brightness_normalized\",\n",
    "    r\"c:\\Users\\JimiH\\IRON HACK\\WEEK 8\\FINAL PROJECT\\IRON HACK PROJECT MRI\\TRAINING DATA\\skull_strip\\stripped\\znorm_flirt_only\\cobre\\schiz\\FLIRT_brightness_normalized\",\n",
    "    r\"c:\\Users\\JimiH\\IRON HACK\\WEEK 8\\FINAL PROJECT\\IRON HACK PROJECT MRI\\TRAINING DATA\\skull_strip\\stripped\\znorm_flirt_only\\on_ds004302\\control\\FLIRT_brightness_normalized\",\n",
    "    r\"c:\\Users\\JimiH\\IRON HACK\\WEEK 8\\FINAL PROJECT\\IRON HACK PROJECT MRI\\TRAINING DATA\\skull_strip\\stripped\\znorm_flirt_only\\on_ds004302\\schiz\\FLIRT_brightness_normalized\",\n",
    "    r\"c:\\Users\\JimiH\\IRON HACK\\WEEK 8\\FINAL PROJECT\\IRON HACK PROJECT MRI\\TRAINING DATA\\skull_strip\\stripped\\znorm_flirt_only\\on_ds004837\\control\\FLIRT_brightness_normalized\",\n",
    "    r\"c:\\Users\\JimiH\\IRON HACK\\WEEK 8\\FINAL PROJECT\\IRON HACK PROJECT MRI\\TRAINING DATA\\skull_strip\\stripped\\znorm_flirt_only\\on_ds004837\\schiz\\FLIRT_brightness_normalized\",\n",
    "    r\"c:\\Users\\JimiH\\IRON HACK\\WEEK 8\\FINAL PROJECT\\IRON HACK PROJECT MRI\\TRAINING DATA\\skull_strip\\stripped\\znorm_flirt_only\\on_ds005073\\control\\FLIRT_brightness_normalized\",\n",
    "    r\"c:\\Users\\JimiH\\IRON HACK\\WEEK 8\\FINAL PROJECT\\IRON HACK PROJECT MRI\\TRAINING DATA\\skull_strip\\stripped\\znorm_flirt_only\\on_ds005073\\schiz\\FLIRT_brightness_normalized\",\n",
    "    r\"c:\\Users\\JimiH\\IRON HACK\\WEEK 8\\FINAL PROJECT\\IRON HACK PROJECT MRI\\TRAINING DATA\\skull_strip\\stripped\\znorm_flirt_only\\on_ds004873\\control\\FLIRT_brightness_normalized\"\n",
    "]\n",
    "\n",
    "#metadata_slct (the DF with all the scans for training and testing)"
   ]
  },
  {
   "cell_type": "code",
   "execution_count": null,
   "metadata": {},
   "outputs": [],
   "source": [
    "metadata_slct.head()"
   ]
  },
  {
   "cell_type": "code",
   "execution_count": null,
   "metadata": {},
   "outputs": [],
   "source": [
    "from sklearn.model_selection import train_test_split\n",
    "\n",
    "# Split the DataFrame into training and testing sets\n",
    "train_df, test_df = train_test_split(metadata_slct, test_size=0.2, stratify=metadata_slct['label'], random_state=42) #random state is a fixed number for the dist to be reproducible"
   ]
  },
  {
   "cell_type": "code",
   "execution_count": null,
   "metadata": {},
   "outputs": [],
   "source": [
    "#CREATE A GENERATOR TO SEQUENTIALLY LOAD BATCHES INTO MEMORY TO PREVENT MEMORY EXHAUSTION\n",
    "\n",
    "class MRIDataGenerator(tf.keras.utils.Sequence):\n",
    "    def __init__(self, dataframe, directories, batch_size=4, dim=(182, 218, 182), n_channels=1, shuffle=True):\n",
    "        self.dataframe = dataframe\n",
    "        self.directories = directories\n",
    "        self.batch_size = batch_size\n",
    "        self.dim = dim\n",
    "        self.n_channels = n_channels\n",
    "        self.shuffle = shuffle\n",
    "        self.on_epoch_end()\n",
    "\n",
    "    def __len__(self):\n",
    "        return int(np.floor(len(self.dataframe) / self.batch_size))\n",
    "\n",
    "    def __getitem__(self, index):\n",
    "        # Generate batch indexes\n",
    "        batch_indexes = self.indexes[index * self.batch_size:(index + 1) * self.batch_size]\n",
    "        batch_df = self.dataframe.iloc[batch_indexes]\n",
    "\n",
    "        # Generate data for the batch\n",
    "        X, y = self.__data_generation(batch_df)\n",
    "        return X, y\n",
    "\n",
    "    def on_epoch_end(self):\n",
    "        self.indexes = np.arange(len(self.dataframe))\n",
    "        if self.shuffle:\n",
    "            np.random.shuffle(self.indexes)\n",
    "\n",
    "    def __data_generation(self, batch_df):\n",
    "        # Initialize data arrays\n",
    "        X = np.empty((self.batch_size, *self.dim, self.n_channels), dtype=np.float32)  # Specify dtype for memory efficiency\n",
    "        y = np.empty((self.batch_size), dtype=int)\n",
    "\n",
    "        for i, (_, row) in enumerate(batch_df.iterrows()):\n",
    "            filename = row['filename']\n",
    "            label = row['label']\n",
    "\n",
    "            # Find file path\n",
    "            filepath = next((os.path.join(d, filename) for d in self.directories if os.path.exists(os.path.join(d, filename))), None)\n",
    "            if filepath:\n",
    "                img = nib.load(filepath)\n",
    "                data = img.get_fdata().astype(np.float32)  # Cast to float32 to ensure compatibility with TensorFlow\n",
    "                X[i,] = data[..., np.newaxis]  # Add channel dimension\n",
    "                y[i] = label\n",
    "            else:\n",
    "                print(f\"Warning: File {filename} not found in directories.\")\n",
    "                \n",
    "        return X, y\n"
   ]
  },
  {
   "cell_type": "code",
   "execution_count": null,
   "metadata": {},
   "outputs": [],
   "source": [
    "# Compile the model\n",
    "from tensorflow.keras.metrics import AUC, Precision, Recall\n",
    "from tensorflow.keras.optimizers import Adam\n",
    "model = create_3d_cnn_model(input_shape=(182, 218, 182, 1))\n",
    "model.compile(\n",
    "    optimizer=Adam(learning_rate=1e-5),\n",
    "    loss='binary_crossentropy',\n",
    "    metrics=[\n",
    "        'accuracy',                # Existing metric for general accuracy\n",
    "        Precision(name='precision'),  # Precision metric\n",
    "        Recall(name='recall'),       # Recall metric\n",
    "        AUC(name='roc_auc')         # ROC AUC metric\n",
    "    ]\n",
    ")\n",
    "\n",
    "# Train the model\n",
    "batch_size = 4  # Adjust based on memory usage\n",
    "train_generator = MRIDataGenerator(train_df, directories, batch_size=batch_size)\n",
    "val_generator = MRIDataGenerator(test_df, directories, batch_size=batch_size)\n",
    "with tf.device('/GPU:0'):\n",
    "    history = model.fit(train_generator, validation_data=val_generator, epochs=10)\n"
   ]
  },
  {
   "cell_type": "code",
   "execution_count": null,
   "metadata": {},
   "outputs": [],
   "source": [
    "\"\"\"#First Try:\n",
    "Epoch 1/10\n",
    "55/55 [==============================] - 40s 646ms/step - loss: 0.7409 - accuracy: 0.5136 - precision: 0.4894 - recall: 0.4381 - roc_auc: 0.5126 - val_loss: 0.6933 - val_accuracy: 0.5357 - val_precision: 0.0000e+00 - val_recall: 0.0000e+00 - val_roc_auc: 0.5000\n",
    "Epoch 2/10\n",
    "55/55 [==============================] - 35s 633ms/step - loss: 0.6931 - accuracy: 0.5318 - precision: 0.5208 - recall: 0.2381 - roc_auc: 0.4900 - val_loss: 0.6929 - val_accuracy: 0.5357 - val_precision: 0.0000e+00 - val_recall: 0.0000e+00 - val_roc_auc: 0.5000\n",
    "Epoch 3/10\n",
    "55/55 [==============================] - 35s 637ms/step - loss: 0.6937 - accuracy: 0.5318 - precision: 0.5556 - recall: 0.0952 - roc_auc: 0.4576 - val_loss: 0.6917 - val_accuracy: 0.5357 - val_precision: 0.0000e+00 - val_recall: 0.0000e+00 - val_roc_auc: 0.5090\n",
    "Epoch 4/10\n",
    "55/55 [==============================] - 35s 632ms/step - loss: 0.6922 - accuracy: 0.5545 - precision: 0.6923 - recall: 0.0874 - roc_auc: 0.4950 - val_loss: 0.6919 - val_accuracy: 0.5357 - val_precision: 0.0000e+00 - val_recall: 0.0000e+00 - val_roc_auc: 0.5000\n",
    "Epoch 5/10\n",
    "55/55 [==============================] - 35s 633ms/step - loss: 0.6943 - accuracy: 0.5136 - precision: 0.4839 - recall: 0.1415 - roc_auc: 0.4331 - val_loss: 0.6921 - val_accuracy: 0.5357 - val_precision: 0.0000e+00 - val_recall: 0.0000e+00 - val_roc_auc: 0.5000\n",
    "Epoch 6/10\n",
    "55/55 [==============================] - 35s 635ms/step - loss: 0.6914 - accuracy: 0.5182 - precision: 0.0000e+00 - recall: 0.0000e+00 - roc_auc: 0.5684 - val_loss: 0.6920 - val_accuracy: 0.5357 - val_precision: 0.0000e+00 - val_recall: 0.0000e+00 - val_roc_auc: 0.5000\n",
    "Epoch 7/10\n",
    "55/55 [==============================] - 35s 636ms/step - loss: 0.6929 - accuracy: 0.5136 - precision: 0.4516 - recall: 0.1346 - roc_auc: 0.4960 - val_loss: 0.6914 - val_accuracy: 0.5357 - val_precision: 0.0000e+00 - val_recall: 0.0000e+00 - val_roc_auc: 0.5000\n",
    "Epoch 8/10\n",
    "55/55 [==============================] - 35s 635ms/step - loss: 0.6931 - accuracy: 0.5273 - precision: 0.5000 - recall: 0.0192 - roc_auc: 0.4655 - val_loss: 0.6914 - val_accuracy: 0.5357 - val_precision: 0.0000e+00 - val_recall: 0.0000e+00 - val_roc_auc: 0.5000\n",
    "Epoch 9/10\n",
    "55/55 [==============================] - 35s 633ms/step - loss: 0.6926 - accuracy: 0.5227 - precision: 0.0000e+00 - recall: 0.0000e+00 - roc_auc: 0.5030 - val_loss: 0.6915 - val_accuracy: 0.5357 - val_precision: 0.0000e+00 - val_recall: 0.0000e+00 - val_roc_auc: 0.5000\n",
    "Epoch 10/10\n",
    "55/55 [==============================] - 35s 634ms/step - loss: 0.6923 - accuracy: 0.5318 - precision: 0.0000e+00 - recall: 0.0000e+00 - roc_auc: 0.4774 - val_loss: 0.6912 - val_accuracy: 0.5357 - val_precision: 0.0000e+00 - val_recall: 0.0000e+00 - val_roc_auc: 0.5000\n",
    "\"\"\""
   ]
  },
  {
   "cell_type": "code",
   "execution_count": null,
   "metadata": {},
   "outputs": [],
   "source": [
    "\"\"\"#Second Try:\n",
    "Epoch 1/30\n",
    "55/55 [==============================] - 37s 602ms/step - loss: 0.7088 - accuracy: 0.5364 - precision: 0.5048 - recall: 0.5146 - roc_auc: 0.5475 - val_loss: 0.6917 - val_accuracy: 0.5357 - val_precision: 0.0000e+00 - val_recall: 0.0000e+00 - val_roc_auc: 0.5756\n",
    "Epoch 2/30\n",
    "55/55 [==============================] - 33s 594ms/step - loss: 0.6940 - accuracy: 0.5500 - precision: 0.5455 - recall: 0.2885 - roc_auc: 0.5145 - val_loss: 0.6920 - val_accuracy: 0.5357 - val_precision: 0.0000e+00 - val_recall: 0.0000e+00 - val_roc_auc: 0.4346\n",
    "Epoch 3/30\n",
    "55/55 [==============================] - 33s 595ms/step - loss: 0.6937 - accuracy: 0.5455 - precision: 0.5370 - recall: 0.2788 - roc_auc: 0.5007 - val_loss: 0.6919 - val_accuracy: 0.5357 - val_precision: 0.0000e+00 - val_recall: 0.0000e+00 - val_roc_auc: 0.5000\n",
    "Epoch 4/30\n",
    "55/55 [==============================] - 33s 595ms/step - loss: 0.6955 - accuracy: 0.4818 - precision: 0.3778 - recall: 0.1650 - roc_auc: 0.4114 - val_loss: 0.6923 - val_accuracy: 0.5357 - val_precision: 0.0000e+00 - val_recall: 0.0000e+00 - val_roc_auc: 0.5000\n",
    "Epoch 5/30\n",
    "55/55 [==============================] - 33s 595ms/step - loss: 0.6929 - accuracy: 0.5273 - precision: 1.0000 - recall: 0.0095 - roc_auc: 0.4672 - val_loss: 0.6920 - val_accuracy: 0.5357 - val_precision: 0.0000e+00 - val_recall: 0.0000e+00 - val_roc_auc: 0.5000\n",
    "Epoch 6/30\n",
    "55/55 [==============================] - 33s 596ms/step - loss: 0.6923 - accuracy: 0.5273 - precision: 1.0000 - recall: 0.0095 - roc_auc: 0.4955 - val_loss: 0.6913 - val_accuracy: 0.5357 - val_precision: 0.0000e+00 - val_recall: 0.0000e+00 - val_roc_auc: 0.5000\n",
    "Epoch 7/30\n",
    "55/55 [==============================] - 33s 597ms/step - loss: 0.6932 - accuracy: 0.5273 - precision: 0.0000e+00 - recall: 0.0000e+00 - roc_auc: 0.4528 - val_loss: 0.6913 - val_accuracy: 0.5357 - val_precision: 0.0000e+00 - val_recall: 0.0000e+00 - val_roc_auc: 0.5000\n",
    "Epoch 8/30\n",
    "55/55 [==============================] - 33s 596ms/step - loss: 0.6924 - accuracy: 0.5273 - precision: 0.0000e+00 - recall: 0.0000e+00 - roc_auc: 0.4833 - val_loss: 0.6912 - val_accuracy: 0.5357 - val_precision: 0.0000e+00 - val_recall: 0.0000e+00 - val_roc_auc: 0.5000\n",
    "Epoch 9/30\n",
    "55/55 [==============================] - 33s 596ms/step - loss: 0.6922 - accuracy: 0.5227 - precision: 0.0000e+00 - recall: 0.0000e+00 - roc_auc: 0.5070 - val_loss: 0.6917 - val_accuracy: 0.5357 - val_precision: 0.0000e+00 - val_recall: 0.0000e+00 - val_roc_auc: 0.5000\n",
    "Epoch 10/30\n",
    "55/55 [==============================] - 33s 598ms/step - loss: 0.6921 - accuracy: 0.5318 - precision: 0.0000e+00 - recall: 0.0000e+00 - roc_auc: 0.4880 - val_loss: 0.6910 - val_accuracy: 0.5357 - val_precision: 0.0000e+00 - val_recall: 0.0000e+00 - val_roc_auc: 0.5000\n",
    "Epoch 11/30\n",
    "55/55 [==============================] - 33s 598ms/step - loss: 0.6924 - accuracy: 0.5227 - precision: 0.0000e+00 - recall: 0.0000e+00 - roc_auc: 0.4966 - val_loss: 0.6912 - val_accuracy: 0.5357 - val_precision: 0.0000e+00 - val_recall: 0.0000e+00 - val_roc_auc: 0.5000\n",
    "Epoch 12/30\n",
    "55/55 [==============================] - 33s 596ms/step - loss: 0.6924 - accuracy: 0.5182 - precision: 0.0000e+00 - recall: 0.0000e+00 - roc_auc: 0.4845 - val_loss: 0.6911 - val_accuracy: 0.5357 - val_precision: 0.0000e+00 - val_recall: 0.0000e+00 - val_roc_auc: 0.5000\n",
    "Epoch 13/30\n",
    "55/55 [==============================] - 33s 596ms/step - loss: 0.6916 - accuracy: 0.5318 - precision: 0.0000e+00 - recall: 0.0000e+00 - roc_auc: 0.4778 - val_loss: 0.6908 - val_accuracy: 0.5357 - val_precision: 0.0000e+00 - val_recall: 0.0000e+00 - val_roc_auc: 0.5000\n",
    "Epoch 14/30\n",
    "55/55 [==============================] - 33s 597ms/step - loss: 0.6933 - accuracy: 0.5273 - precision: 0.0000e+00 - recall: 0.0000e+00 - roc_auc: 0.4384 - val_loss: 0.6911 - val_accuracy: 0.5357 - val_precision: 0.0000e+00 - val_recall: 0.0000e+00 - val_roc_auc: 0.5141\n",
    "Epoch 15/30\n",
    "55/55 [==============================] - 33s 596ms/step - loss: 0.6926 - accuracy: 0.5227 - precision: 0.0000e+00 - recall: 0.0000e+00 - roc_auc: 0.4855 - val_loss: 0.6911 - val_accuracy: 0.5357 - val_precision: 0.0000e+00 - val_recall: 0.0000e+00 - val_roc_auc: 0.5000\n",
    "Epoch 16/30\n",
    "55/55 [==============================] - 33s 594ms/step - loss: 0.6923 - accuracy: 0.5227 - precision: 0.0000e+00 - recall: 0.0000e+00 - roc_auc: 0.5097 - val_loss: 0.6911 - val_accuracy: 0.5357 - val_precision: 0.0000e+00 - val_recall: 0.0000e+00 - val_roc_auc: 0.5000\n",
    "Epoch 17/30\n",
    "55/55 [==============================] - 33s 594ms/step - loss: 0.6923 - accuracy: 0.5227 - precision: 0.0000e+00 - recall: 0.0000e+00 - roc_auc: 0.4974 - val_loss: 0.6911 - val_accuracy: 0.5357 - val_precision: 0.0000e+00 - val_recall: 0.0000e+00 - val_roc_auc: 0.5000\n",
    "Epoch 18/30\n",
    "55/55 [==============================] - 33s 594ms/step - loss: 0.6924 - accuracy: 0.5273 - precision: 0.0000e+00 - recall: 0.0000e+00 - roc_auc: 0.4886 - val_loss: 0.6908 - val_accuracy: 0.5357 - val_precision: 0.0000e+00 - val_recall: 0.0000e+00 - val_roc_auc: 0.5000\n",
    "Epoch 19/30\n",
    "55/55 [==============================] - 33s 595ms/step - loss: 0.6928 - accuracy: 0.5318 - precision: 0.0000e+00 - recall: 0.0000e+00 - roc_auc: 0.4510 - val_loss: 0.6910 - val_accuracy: 0.5357 - val_precision: 0.0000e+00 - val_recall: 0.0000e+00 - val_roc_auc: 0.5000\n",
    "Epoch 20/30\n",
    "55/55 [==============================] - 33s 598ms/step - loss: 0.6922 - accuracy: 0.5273 - precision: 0.0000e+00 - recall: 0.0000e+00 - roc_auc: 0.4944 - val_loss: 0.6911 - val_accuracy: 0.5357 - val_precision: 0.0000e+00 - val_recall: 0.0000e+00 - val_roc_auc: 0.5192\n",
    "Epoch 21/30\n",
    "55/55 [==============================] - 33s 598ms/step - loss: 0.6945 - accuracy: 0.5227 - precision: 0.0000e+00 - recall: 0.0000e+00 - roc_auc: 0.3893 - val_loss: 0.6912 - val_accuracy: 0.5357 - val_precision: 0.0000e+00 - val_recall: 0.0000e+00 - val_roc_auc: 0.5000\n",
    "Epoch 22/30\n",
    "55/55 [==============================] - 33s 596ms/step - loss: 0.6905 - accuracy: 0.5273 - precision: 0.0000e+00 - recall: 0.0000e+00 - roc_auc: 0.5429 - val_loss: 0.6908 - val_accuracy: 0.5357 - val_precision: 0.0000e+00 - val_recall: 0.0000e+00 - val_roc_auc: 0.5000\n",
    "Epoch 23/30\n",
    "55/55 [==============================] - 33s 596ms/step - loss: 0.6920 - accuracy: 0.5318 - precision: 0.0000e+00 - recall: 0.0000e+00 - roc_auc: 0.4939 - val_loss: 0.6909 - val_accuracy: 0.5357 - val_precision: 0.0000e+00 - val_recall: 0.0000e+00 - val_roc_auc: 0.5000\n",
    "Epoch 24/30\n",
    "55/55 [==============================] - 33s 595ms/step - loss: 0.6908 - accuracy: 0.5136 - precision: 0.0000e+00 - recall: 0.0000e+00 - roc_auc: 0.5354 - val_loss: 0.6908 - val_accuracy: 0.5357 - val_precision: 0.0000e+00 - val_recall: 0.0000e+00 - val_roc_auc: 0.5000\n",
    "Epoch 25/30\n",
    "55/55 [==============================] - 33s 597ms/step - loss: 0.7024 - accuracy: 0.5182 - precision: 0.4375 - recall: 0.0673 - roc_auc: 0.4634 - val_loss: 0.6912 - val_accuracy: 0.5357 - val_precision: 0.0000e+00 - val_recall: 0.0000e+00 - val_roc_auc: 0.5000\n",
    "Epoch 26/30\n",
    "55/55 [==============================] - 33s 598ms/step - loss: 0.6933 - accuracy: 0.5273 - precision: 0.0000e+00 - recall: 0.0000e+00 - roc_auc: 0.4637 - val_loss: 0.6909 - val_accuracy: 0.5357 - val_precision: 0.0000e+00 - val_recall: 0.0000e+00 - val_roc_auc: 0.5000\n",
    "Epoch 27/30\n",
    "55/55 [==============================] - 33s 598ms/step - loss: 0.6929 - accuracy: 0.5273 - precision: 0.0000e+00 - recall: 0.0000e+00 - roc_auc: 0.4582 - val_loss: 0.6908 - val_accuracy: 0.5357 - val_precision: 0.0000e+00 - val_recall: 0.0000e+00 - val_roc_auc: 0.5000\n",
    "Epoch 28/30\n",
    "55/55 [==============================] - 33s 596ms/step - loss: 0.6917 - accuracy: 0.5318 - precision: 0.0000e+00 - recall: 0.0000e+00 - roc_auc: 0.4943 - val_loss: 0.6909 - val_accuracy: 0.5357 - val_precision: 0.0000e+00 - val_recall: 0.0000e+00 - val_roc_auc: 0.5000\n",
    "Epoch 29/30\n",
    "55/55 [==============================] - 33s 596ms/step - loss: 0.6916 - accuracy: 0.5273 - precision: 0.0000e+00 - recall: 0.0000e+00 - roc_auc: 0.4992 - val_loss: 0.6906 - val_accuracy: 0.5357 - val_precision: 0.0000e+00 - val_recall: 0.0000e+00 - val_roc_auc: 0.5000\n",
    "Epoch 30/30\n",
    "55/55 [==============================] - 33s 597ms/step - loss: 0.6930 - accuracy: 0.5273 - precision: 0.0000e+00 - recall: 0.0000e+00 - roc_auc: 0.4367 - val_loss: 0.6908 - val_accuracy: 0.5357 - val_precision: 0.0000e+00 - val_recall: 0.0000e+00 - val_roc_auc: 0.5000\"\"\"\n"
   ]
  },
  {
   "cell_type": "code",
   "execution_count": null,
   "metadata": {},
   "outputs": [],
   "source": [
    "\"\"\"#Third Try (Learning Rate 1e-5):\n",
    "Epoch 1/30\n",
    "55/55 [==============================] - 37s 604ms/step - loss: 1.0085 - accuracy: 0.4864 - precision: 0.4740 - recall: 0.8835 - roc_auc: 0.5335 - val_loss: 1.0418 - val_accuracy: 0.4643 - val_precision: 0.4643 - val_recall: 1.0000 - val_roc_auc: 0.4949\n",
    "Epoch 2/30\n",
    "55/55 [==============================] - 33s 594ms/step - loss: 0.9165 - accuracy: 0.4909 - precision: 0.4813 - recall: 0.8571 - roc_auc: 0.5258 - val_loss: 0.8473 - val_accuracy: 0.4643 - val_precision: 0.4643 - val_recall: 1.0000 - val_roc_auc: 0.4987\n",
    "Epoch 3/30\n",
    "55/55 [==============================] - 33s 595ms/step - loss: 0.8641 - accuracy: 0.4682 - precision: 0.4601 - recall: 0.7212 - roc_auc: 0.5073 - val_loss: 0.8012 - val_accuracy: 0.4643 - val_precision: 0.4643 - val_recall: 1.0000 - val_roc_auc: 0.4968\n",
    "Epoch 4/30\n",
    "55/55 [==============================] - 33s 595ms/step - loss: 0.8142 - accuracy: 0.4545 - precision: 0.4490 - recall: 0.6286 - roc_auc: 0.5105 - val_loss: 0.7751 - val_accuracy: 0.4643 - val_precision: 0.4643 - val_recall: 1.0000 - val_roc_auc: 0.4891\n",
    "Epoch 5/30\n",
    "55/55 [==============================] - 33s 596ms/step - loss: 0.7723 - accuracy: 0.4909 - precision: 0.4768 - recall: 0.6857 - roc_auc: 0.5501 - val_loss: 0.7735 - val_accuracy: 0.4643 - val_precision: 0.4643 - val_recall: 1.0000 - val_roc_auc: 0.5006\n",
    "Epoch 6/30\n",
    "55/55 [==============================] - 33s 599ms/step - loss: 0.7767 - accuracy: 0.4864 - precision: 0.4656 - recall: 0.5865 - roc_auc: 0.5191 - val_loss: 0.7696 - val_accuracy: 0.4643 - val_precision: 0.4643 - val_recall: 1.0000 - val_roc_auc: 0.5096\n",
    "Epoch 7/30\n",
    "55/55 [==============================] - 33s 595ms/step - loss: 0.7776 - accuracy: 0.5273 - precision: 0.5043 - recall: 0.5524 - roc_auc: 0.5046 - val_loss: 0.7467 - val_accuracy: 0.4464 - val_precision: 0.4545 - val_recall: 0.9615 - val_roc_auc: 0.5026\n",
    "Epoch 8/30\n",
    "55/55 [==============================] - 44s 808ms/step - loss: 0.7739 - accuracy: 0.5136 - precision: 0.4878 - recall: 0.5769 - roc_auc: 0.5300 - val_loss: 0.7460 - val_accuracy: 0.4643 - val_precision: 0.4630 - val_recall: 0.9615 - val_roc_auc: 0.5199\n",
    "Epoch 9/30\n",
    "55/55 [==============================] - 35s 625ms/step - loss: 0.7854 - accuracy: 0.4773 - precision: 0.4545 - recall: 0.4762 - roc_auc: 0.4857 - val_loss: 0.7359 - val_accuracy: 0.4821 - val_precision: 0.4694 - val_recall: 0.8846 - val_roc_auc: 0.5224\n",
    "Epoch 10/30\n",
    "55/55 [==============================] - 34s 617ms/step - loss: 0.8035 - accuracy: 0.4773 - precision: 0.4516 - recall: 0.5437 - roc_auc: 0.4721 - val_loss: 0.7249 - val_accuracy: 0.4821 - val_precision: 0.4694 - val_recall: 0.8846 - val_roc_auc: 0.5135\n",
    "Epoch 11/30\n",
    "55/55 [==============================] - 32s 575ms/step - loss: 0.7397 - accuracy: 0.5227 - precision: 0.4960 - recall: 0.5962 - roc_auc: 0.5558 - val_loss: 0.7180 - val_accuracy: 0.5536 - val_precision: 0.5111 - val_recall: 0.8846 - val_roc_auc: 0.5071\n",
    "Epoch 12/30\n",
    "55/55 [==============================] - 32s 579ms/step - loss: 0.7273 - accuracy: 0.5409 - precision: 0.5083 - recall: 0.5922 - roc_auc: 0.5521 - val_loss: 0.7170 - val_accuracy: 0.5179 - val_precision: 0.4878 - val_recall: 0.7692 - val_roc_auc: 0.5026\n",
    "Epoch 13/30\n",
    "55/55 [==============================] - 32s 574ms/step - loss: 0.7631 - accuracy: 0.4864 - precision: 0.4536 - recall: 0.4231 - roc_auc: 0.4745 - val_loss: 0.7089 - val_accuracy: 0.5179 - val_precision: 0.4839 - val_recall: 0.5769 - val_roc_auc: 0.5071\n",
    "Epoch 14/30\n",
    "55/55 [==============================] - 32s 573ms/step - loss: 0.7459 - accuracy: 0.5455 - precision: 0.5248 - recall: 0.5048 - roc_auc: 0.5446 - val_loss: 0.7010 - val_accuracy: 0.5536 - val_precision: 0.5185 - val_recall: 0.5385 - val_roc_auc: 0.5160\n",
    "Epoch 15/30\n",
    "55/55 [==============================] - 32s 571ms/step - loss: 0.7454 - accuracy: 0.5000 - precision: 0.4646 - recall: 0.4466 - roc_auc: 0.5094 - val_loss: 0.6973 - val_accuracy: 0.5536 - val_precision: 0.5200 - val_recall: 0.5000 - val_roc_auc: 0.5186\n",
    "Epoch 16/30\n",
    "55/55 [==============================] - 32s 570ms/step - loss: 0.7326 - accuracy: 0.5000 - precision: 0.4717 - recall: 0.4808 - roc_auc: 0.5312 - val_loss: 0.7002 - val_accuracy: 0.5357 - val_precision: 0.5000 - val_recall: 0.5385 - val_roc_auc: 0.5173\n",
    "Epoch 17/30\n",
    "55/55 [==============================] - 32s 570ms/step - loss: 0.7047 - accuracy: 0.5818 - precision: 0.5545 - recall: 0.5865 - roc_auc: 0.5847 - val_loss: 0.7031 - val_accuracy: 0.5536 - val_precision: 0.5172 - val_recall: 0.5769 - val_roc_auc: 0.5064\n",
    "Epoch 18/30\n",
    "55/55 [==============================] - 32s 574ms/step - loss: 0.6749 - accuracy: 0.5909 - precision: 0.5684 - recall: 0.5243 - roc_auc: 0.6192 - val_loss: 0.6995 - val_accuracy: 0.5536 - val_precision: 0.5200 - val_recall: 0.5000 - val_roc_auc: 0.5224\n",
    "Epoch 19/30\n",
    "55/55 [==============================] - 32s 573ms/step - loss: 0.7291 - accuracy: 0.5273 - precision: 0.5052 - recall: 0.4667 - roc_auc: 0.5301 - val_loss: 0.7010 - val_accuracy: 0.5179 - val_precision: 0.4762 - val_recall: 0.3846 - val_roc_auc: 0.5141\n",
    "Epoch 20/30\n",
    "55/55 [==============================] - 32s 576ms/step - loss: 0.7368 - accuracy: 0.5136 - precision: 0.4845 - recall: 0.4519 - roc_auc: 0.5271 - val_loss: 0.7023 - val_accuracy: 0.5179 - val_precision: 0.4783 - val_recall: 0.4231 - val_roc_auc: 0.5109\n",
    "Epoch 21/30\n",
    "55/55 [==============================] - 32s 572ms/step - loss: 0.7281 - accuracy: 0.5227 - precision: 0.5000 - recall: 0.4476 - roc_auc: 0.5363 - val_loss: 0.7074 - val_accuracy: 0.5357 - val_precision: 0.5000 - val_recall: 0.5000 - val_roc_auc: 0.5071\n",
    "Epoch 22/30\n",
    "55/55 [==============================] - 32s 571ms/step - loss: 0.7388 - accuracy: 0.5182 - precision: 0.4906 - recall: 0.5000 - roc_auc: 0.5238 - val_loss: 0.7051 - val_accuracy: 0.5357 - val_precision: 0.5000 - val_recall: 0.5000 - val_roc_auc: 0.5096\n",
    "Epoch 23/30\n",
    "55/55 [==============================] - 32s 571ms/step - loss: 0.7341 - accuracy: 0.5273 - precision: 0.5000 - recall: 0.4808 - roc_auc: 0.5298 - val_loss: 0.7008 - val_accuracy: 0.5714 - val_precision: 0.5385 - val_recall: 0.5385 - val_roc_auc: 0.5212\n",
    "Epoch 24/30\n",
    "55/55 [==============================] - 32s 573ms/step - loss: 0.7083 - accuracy: 0.5364 - precision: 0.5165 - recall: 0.4476 - roc_auc: 0.5642 - val_loss: 0.6959 - val_accuracy: 0.5000 - val_precision: 0.4500 - val_recall: 0.3462 - val_roc_auc: 0.5263\n",
    "Epoch 25/30\n",
    "55/55 [==============================] - 32s 570ms/step - loss: 0.7327 - accuracy: 0.5000 - precision: 0.4742 - recall: 0.4381 - roc_auc: 0.5231 - val_loss: 0.6988 - val_accuracy: 0.4821 - val_precision: 0.4286 - val_recall: 0.3462 - val_roc_auc: 0.5218\n",
    "Epoch 26/30\n",
    "55/55 [==============================] - 32s 572ms/step - loss: 0.7175 - accuracy: 0.5409 - precision: 0.5208 - recall: 0.4762 - roc_auc: 0.5475 - val_loss: 0.6970 - val_accuracy: 0.5000 - val_precision: 0.4444 - val_recall: 0.3077 - val_roc_auc: 0.5327\n",
    "Epoch 27/30\n",
    "55/55 [==============================] - 32s 572ms/step - loss: 0.7340 - accuracy: 0.5136 - precision: 0.4857 - recall: 0.4904 - roc_auc: 0.5122 - val_loss: 0.6954 - val_accuracy: 0.5357 - val_precision: 0.5000 - val_recall: 0.3462 - val_roc_auc: 0.5250\n",
    "Epoch 28/30\n",
    "55/55 [==============================] - 32s 572ms/step - loss: 0.7153 - accuracy: 0.5545 - precision: 0.5319 - recall: 0.4808 - roc_auc: 0.5464 - val_loss: 0.6935 - val_accuracy: 0.5536 - val_precision: 0.5294 - val_recall: 0.3462 - val_roc_auc: 0.5090\n",
    "Epoch 29/30\n",
    "55/55 [==============================] - 32s 572ms/step - loss: 0.7475 - accuracy: 0.5182 - precision: 0.4906 - recall: 0.5000 - roc_auc: 0.5107 - val_loss: 0.6957 - val_accuracy: 0.5357 - val_precision: 0.5000 - val_recall: 0.3462 - val_roc_auc: 0.5160\n",
    "Epoch 30/30\n",
    "55/55 [==============================] - 32s 571ms/step - loss: 0.7006 - accuracy: 0.5409 - precision: 0.5146 - recall: 0.5096 - roc_auc: 0.5768 - val_loss: 0.6989 - val_accuracy: 0.5536 - val_precision: 0.5217 - val_recall: 0.4615 - val_roc_auc: 0.5256\n",
    "\"\"\""
   ]
  },
  {
   "cell_type": "code",
   "execution_count": null,
   "metadata": {},
   "outputs": [],
   "source": [
    "#Fourth Try (No Dropout)\n",
    "\"\"\"\n",
    "Epoch 1/10\n",
    "55/55 [==============================] - 36s 567ms/step - loss: 0.8659 - accuracy: 0.5318 - precision: 0.0000e+00 - recall: 0.0000e+00 - roc_auc: 0.4208 - val_loss: 0.7581 - val_accuracy: 0.5357 - val_precision: 0.0000e+00 - val_recall: 0.0000e+00 - val_roc_auc: 0.5205\n",
    "Epoch 2/10\n",
    "55/55 [==============================] - 31s 555ms/step - loss: 0.7822 - accuracy: 0.5227 - precision: 0.0000e+00 - recall: 0.0000e+00 - roc_auc: 0.4484 - val_loss: 0.7016 - val_accuracy: 0.5357 - val_precision: 0.0000e+00 - val_recall: 0.0000e+00 - val_roc_auc: 0.4923\n",
    "Epoch 3/10\n",
    "55/55 [==============================] - 31s 554ms/step - loss: 0.7273 - accuracy: 0.5273 - precision: 0.0000e+00 - recall: 0.0000e+00 - roc_auc: 0.4465 - val_loss: 0.7001 - val_accuracy: 0.5357 - val_precision: 0.0000e+00 - val_recall: 0.0000e+00 - val_roc_auc: 0.4218\n",
    "Epoch 4/10\n",
    "55/55 [==============================] - 31s 556ms/step - loss: 0.7107 - accuracy: 0.5273 - precision: 0.0000e+00 - recall: 0.0000e+00 - roc_auc: 0.4176 - val_loss: 0.7013 - val_accuracy: 0.5357 - val_precision: 0.0000e+00 - val_recall: 0.0000e+00 - val_roc_auc: 0.3949\n",
    "Epoch 5/10\n",
    "55/55 [==============================] - 31s 557ms/step - loss: 0.6970 - accuracy: 0.5227 - precision: 0.3750 - recall: 0.0291 - roc_auc: 0.4837 - val_loss: 0.6997 - val_accuracy: 0.5357 - val_precision: 0.0000e+00 - val_recall: 0.0000e+00 - val_roc_auc: 0.3692\n",
    "Epoch 6/10\n",
    "55/55 [==============================] - 31s 557ms/step - loss: 0.6841 - accuracy: 0.5364 - precision: 0.5385 - recall: 0.0680 - roc_auc: 0.6021 - val_loss: 0.6983 - val_accuracy: 0.5357 - val_precision: 0.0000e+00 - val_recall: 0.0000e+00 - val_roc_auc: 0.4212\n",
    "Epoch 7/10\n",
    "55/55 [==============================] - 31s 557ms/step - loss: 0.6912 - accuracy: 0.5364 - precision: 0.5227 - recall: 0.2212 - roc_auc: 0.5455 - val_loss: 0.6993 - val_accuracy: 0.5536 - val_precision: 1.0000 - val_recall: 0.0385 - val_roc_auc: 0.4846\n",
    "Epoch 8/10\n",
    "55/55 [==============================] - 31s 565ms/step - loss: 0.6788 - accuracy: 0.5545 - precision: 0.5625 - recall: 0.2596 - roc_auc: 0.6079 - val_loss: 0.7007 - val_accuracy: 0.4643 - val_precision: 0.1667 - val_recall: 0.0385 - val_roc_auc: 0.4936\n",
    "Epoch 9/10\n",
    "55/55 [==============================] - 31s 560ms/step - loss: 0.6844 - accuracy: 0.5500 - precision: 0.5652 - recall: 0.2476 - roc_auc: 0.5844 - val_loss: 0.6985 - val_accuracy: 0.5357 - val_precision: 0.5000 - val_recall: 0.1154 - val_roc_auc: 0.4897\n",
    "Epoch 10/10\n",
    "55/55 [==============================] - 31s 557ms/step - loss: 0.6821 - accuracy: 0.5591 - precision: 0.5769 - recall: 0.2857 - roc_auc: 0.5900 - val_loss: 0.7007 - val_accuracy: 0.5000 - val_precision: 0.3750 - val_recall: 0.1154 - val_roc_auc: 0.5019\n",
    "\"\"\""
   ]
  },
  {
   "cell_type": "code",
   "execution_count": null,
   "metadata": {},
   "outputs": [],
   "source": [
    "# Evaluate the model on the test set using the generator\n",
    "results = model.evaluate(val_generator, verbose=0)\n",
    "\n",
    "# Assuming the metrics order in `model.compile` was:\n",
    "# [accuracy, precision, recall, roc_auc], so:\n",
    "precision = results[2]  # Precision is the 3rd metric\n",
    "recall = results[3]     # Recall is the 4th metric\n",
    "\n",
    "# Calculate F1 score\n",
    "if precision + recall > 0:  # To avoid division by zero\n",
    "    f1_score = 2 * (precision * recall) / (precision + recall)\n",
    "else:\n",
    "    f1_score = 0  # Set F1 score to 0 if both precision and recall are zero\n",
    "\n",
    "print(f\"F1 Score: {f1_score:.4f}\")\n"
   ]
  },
  {
   "cell_type": "code",
   "execution_count": null,
   "metadata": {},
   "outputs": [],
   "source": [
    "#Third Try:\n",
    "# F1 Score: 0.4898"
   ]
  },
  {
   "cell_type": "code",
   "execution_count": null,
   "metadata": {},
   "outputs": [],
   "source": [
    "#Fourth Try:\n",
    "#F1 Score: 0.1765"
   ]
  },
  {
   "cell_type": "code",
   "execution_count": null,
   "metadata": {},
   "outputs": [],
   "source": [
    "from sklearn.metrics import f1_score, precision_score, recall_score, roc_auc_score\n",
    "\n",
    "# Generate predictions for the test set\n",
    "y_pred_prob = model.predict(val_generator)  # Predicted probabilities\n",
    "y_pred = (y_pred_prob > 0.5).astype(int)    # Convert probabilities to binary predictions with threshold 0.5\n",
    "\n",
    "# Extract true labels from the test generator\n",
    "y_true = []\n",
    "for _, labels in val_generator:\n",
    "    y_true.extend(labels)\n",
    "y_true = np.array(y_true)\n",
    "\n",
    "# Calculate metrics\n",
    "precision = precision_score(y_true, y_pred)\n",
    "recall = recall_score(y_true, y_pred)\n",
    "f1 = f1_score(y_true, y_pred)\n",
    "roc_auc = roc_auc_score(y_true, y_pred_prob)  # Use probabilities for ROC AUC calculation\n",
    "\n",
    "# Print the metrics\n",
    "print(f\"Precision: {precision}\")\n",
    "print(f\"Recall: {recall}\")\n",
    "print(f\"F1 Score: {f1}\")\n",
    "print(f\"ROC AUC: {roc_auc}\")\n"
   ]
  },
  {
   "cell_type": "code",
   "execution_count": null,
   "metadata": {},
   "outputs": [],
   "source": [
    "#Third Try:\n",
    "\"\"\"\n",
    "14/14 [==============================] - 6s 453ms/step\n",
    "Precision: 0.43478260869565216\n",
    "Recall: 0.38461538461538464\n",
    "F1 Score: 0.40816326530612246\n",
    "ROC AUC: 0.47820512820512817\n",
    "\"\"\""
   ]
  },
  {
   "cell_type": "code",
   "execution_count": null,
   "metadata": {},
   "outputs": [],
   "source": [
    "#Fourth Try:\n",
    "\"\"\"\n",
    "14/14 [==============================] - 6s 441ms/step\n",
    "Precision: 0.625\n",
    "Recall: 0.19230769230769232\n",
    "F1 Score: 0.29411764705882354\n",
    "ROC AUC: 0.4608974358974358\n",
    "\"\"\""
   ]
  },
  {
   "cell_type": "code",
   "execution_count": null,
   "metadata": {},
   "outputs": [],
   "source": [
    "print(\"Predicted probabilities:\", y_pred_prob[:10])\n",
    "print(\"Binary predictions:\", y_pred[:10])\n",
    "print(\"True labels:\", y_true[:10])\n"
   ]
  },
  {
   "cell_type": "code",
   "execution_count": null,
   "metadata": {},
   "outputs": [],
   "source": [
    "#Third Try:\n",
    "\"\"\"\n",
    "Predicted probabilities: [\n",
    " [0.3906]\n",
    " [0.4697]\n",
    " [0.4885]\n",
    " [0.4941]\n",
    " [0.514 ]\n",
    " [0.609 ]\n",
    " [0.4587]\n",
    " [0.754 ]\n",
    " [0.4707]\n",
    " [0.637 ]]\n",
    "\n",
    "Binary predictions: [\n",
    " [0]\n",
    " [0]\n",
    " [0]\n",
    " [0]\n",
    " [1]\n",
    " [1]\n",
    " [0]\n",
    " [1]\n",
    " [0]\n",
    " [1]]\n",
    "True labels: [1 1 1 0 1 1 1 1 0 1]\"\"\"\n"
   ]
  },
  {
   "cell_type": "code",
   "execution_count": null,
   "metadata": {},
   "outputs": [],
   "source": [
    "#Fourth Try:\n",
    "\"\"\"\n",
    "Predicted probabilities: [[0.4849]\n",
    " [0.4612]\n",
    " [0.5977]\n",
    " [0.4302]\n",
    " [0.4368]\n",
    " [0.388 ]\n",
    " [0.4753]\n",
    " [0.4414]\n",
    " [0.58  ]\n",
    " [0.5337]]\n",
    "Binary predictions: [[0]\n",
    " [0]\n",
    " [1]\n",
    " [0]\n",
    " [0]\n",
    " [0]\n",
    " [0]\n",
    " [0]\n",
    " [1]\n",
    " [1]]\n",
    "True labels: [1 1 1 0 1 1 0 0 0 1]\"\"\""
   ]
  },
  {
   "cell_type": "markdown",
   "metadata": {},
   "source": [
    "The model does not seem to learn properly, possible reasons:  \n",
    "- Simply not enough data!  \n",
    "- Too many artifacts, not normalized enough  \n",
    "- Undercomplex model  \n",
    "    - Not enough computational power for more complex model, 3D CNN very memory hungry! \n"
   ]
  },
  {
   "cell_type": "markdown",
   "metadata": {},
   "source": [
    "Potential steps to create a working and robust model:  \n",
    "- Significantly larger and more normalized dataset  \n",
    "- Leveraging more computational power for higher model complexity  \n",
    "- Using pre-trained models and fine-tuning them for this specific task  \n"
   ]
  },
  {
   "cell_type": "markdown",
   "metadata": {},
   "source": []
  }
 ],
 "metadata": {
  "kernelspec": {
   "display_name": "finalproject-gpu",
   "language": "python",
   "name": "python3"
  },
  "language_info": {
   "codemirror_mode": {
    "name": "ipython",
    "version": 3
   },
   "file_extension": ".py",
   "mimetype": "text/x-python",
   "name": "python",
   "nbconvert_exporter": "python",
   "pygments_lexer": "ipython3",
   "version": "3.10.15"
  }
 },
 "nbformat": 4,
 "nbformat_minor": 2
}
